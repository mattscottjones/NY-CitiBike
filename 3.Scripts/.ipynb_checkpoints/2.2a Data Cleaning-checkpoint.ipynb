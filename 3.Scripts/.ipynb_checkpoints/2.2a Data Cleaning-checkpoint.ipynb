{
 "cells": [
  {
   "cell_type": "markdown",
   "id": "ab4c51a1-7964-4b85-8c2c-487e00b81843",
   "metadata": {},
   "source": [
    "# Data Cleaning"
   ]
  },
  {
   "cell_type": "markdown",
   "id": "b96b80c3-3cd8-4c06-8492-e86205c337fa",
   "metadata": {},
   "source": [
    "## This script contains the following:\n",
    "#### [1. Import Libraries](#import-libraries)\n",
    "#### [2. Import Data](#import-data)\n",
    "#### [3. Data Wrangling](#data-wrangling)\n",
    "#### [4. Complete Data Check](#complete-data)\n",
    "#### [5. Export the Data](#export-data)"
   ]
  },
  {
   "cell_type": "markdown",
   "id": "4bd759a5-8775-4144-a0f3-fe9cfbd9ac7e",
   "metadata": {},
   "source": [
    "### 1. Import Libraries<a id='import-libraries'></a>"
   ]
  },
  {
   "cell_type": "code",
   "execution_count": 1,
   "id": "5a1df45e-ed85-4164-b170-3abedb65f476",
   "metadata": {},
   "outputs": [],
   "source": [
    "import pandas as pd\n",
    "import numpy as np\n",
    "import os\n",
    "\n",
    "import warnings\n",
    "warnings.simplefilter(action='ignore', category=FutureWarning)"
   ]
  },
  {
   "cell_type": "markdown",
   "id": "dd32b985-e4cc-42a7-9459-005bb4846c8a",
   "metadata": {},
   "source": [
    "### 2. Import Data<a id='import-data'></a>"
   ]
  },
  {
   "cell_type": "code",
   "execution_count": 2,
   "id": "74cce8cd-0a01-48a8-8739-edf875384110",
   "metadata": {},
   "outputs": [],
   "source": [
    "folderpath = r'/Users/matthewjones/Documents/CareerFoundry/Data Visualization with Python/Achievement 2/NY-CitiBike/2. Data/Processed Data'\n",
    "\n",
    "df = pd.read_csv(os.path.join(folderpath, 'nyc_bike_weather_data.csv'), low_memory=False, encoding=\"utf-8\", index_col = 0)"
   ]
  },
  {
   "cell_type": "code",
   "execution_count": 3,
   "id": "395649ab-0f5f-4f85-8111-d63ce6686bda",
   "metadata": {},
   "outputs": [
    {
     "data": {
      "text/plain": [
       "(29838806, 17)"
      ]
     },
     "execution_count": 3,
     "metadata": {},
     "output_type": "execute_result"
    }
   ],
   "source": [
    "df.shape"
   ]
  },
  {
   "cell_type": "code",
   "execution_count": 4,
   "id": "acaeb16b-ea2c-4265-be53-52e1c2c9ee9c",
   "metadata": {},
   "outputs": [
    {
     "data": {
      "text/plain": [
       "Index(['ride_id', 'rideable_type', 'started_at', 'ended_at',\n",
       "       'start_station_name', 'start_station_id', 'end_station_name',\n",
       "       'end_station_id', 'start_lat', 'start_lng', 'end_lat', 'end_lng',\n",
       "       'member_casual', 'Unnamed: 0', 'date', 'avgTemp', '_merge'],\n",
       "      dtype='object')"
      ]
     },
     "execution_count": 4,
     "metadata": {},
     "output_type": "execute_result"
    }
   ],
   "source": [
    "df.columns"
   ]
  },
  {
   "cell_type": "code",
   "execution_count": 5,
   "id": "135fd5c5-d3ad-41d0-b58b-135f640d58a0",
   "metadata": {},
   "outputs": [
    {
     "data": {
      "text/plain": [
       "ride_id                object\n",
       "rideable_type          object\n",
       "started_at             object\n",
       "ended_at               object\n",
       "start_station_name     object\n",
       "start_station_id       object\n",
       "end_station_name       object\n",
       "end_station_id         object\n",
       "start_lat             float64\n",
       "start_lng             float64\n",
       "end_lat               float64\n",
       "end_lng               float64\n",
       "member_casual          object\n",
       "Unnamed: 0            float64\n",
       "date                   object\n",
       "avgTemp               float64\n",
       "_merge                 object\n",
       "dtype: object"
      ]
     },
     "execution_count": 5,
     "metadata": {},
     "output_type": "execute_result"
    }
   ],
   "source": [
    "df.dtypes"
   ]
  },
  {
   "cell_type": "code",
   "execution_count": 6,
   "id": "4891b1af-2b5a-413b-bb2c-dd3007353df9",
   "metadata": {},
   "outputs": [
    {
     "data": {
      "text/html": [
       "<div>\n",
       "<style scoped>\n",
       "    .dataframe tbody tr th:only-of-type {\n",
       "        vertical-align: middle;\n",
       "    }\n",
       "\n",
       "    .dataframe tbody tr th {\n",
       "        vertical-align: top;\n",
       "    }\n",
       "\n",
       "    .dataframe thead th {\n",
       "        text-align: right;\n",
       "    }\n",
       "</style>\n",
       "<table border=\"1\" class=\"dataframe\">\n",
       "  <thead>\n",
       "    <tr style=\"text-align: right;\">\n",
       "      <th></th>\n",
       "      <th>ride_id</th>\n",
       "      <th>rideable_type</th>\n",
       "      <th>started_at</th>\n",
       "      <th>ended_at</th>\n",
       "      <th>start_station_name</th>\n",
       "      <th>start_station_id</th>\n",
       "      <th>end_station_name</th>\n",
       "      <th>end_station_id</th>\n",
       "      <th>start_lat</th>\n",
       "      <th>start_lng</th>\n",
       "      <th>end_lat</th>\n",
       "      <th>end_lng</th>\n",
       "      <th>member_casual</th>\n",
       "      <th>Unnamed: 0</th>\n",
       "      <th>date</th>\n",
       "      <th>avgTemp</th>\n",
       "      <th>_merge</th>\n",
       "    </tr>\n",
       "  </thead>\n",
       "  <tbody>\n",
       "    <tr>\n",
       "      <th>0</th>\n",
       "      <td>9D0DC440CB40CF8E</td>\n",
       "      <td>electric_bike</td>\n",
       "      <td>2022-08-27 13:56:47.728</td>\n",
       "      <td>2022-08-27 14:02:56.651</td>\n",
       "      <td>Flatbush Ave &amp; Ocean Ave</td>\n",
       "      <td>3704.04</td>\n",
       "      <td>3 St &amp; Prospect Park West</td>\n",
       "      <td>3865.05</td>\n",
       "      <td>40.663657</td>\n",
       "      <td>-73.963014</td>\n",
       "      <td>40.668132</td>\n",
       "      <td>-73.973638</td>\n",
       "      <td>casual</td>\n",
       "      <td>NaN</td>\n",
       "      <td>2022-08-27</td>\n",
       "      <td>27.8</td>\n",
       "      <td>both</td>\n",
       "    </tr>\n",
       "    <tr>\n",
       "      <th>1</th>\n",
       "      <td>2214991DFBE5C4D7</td>\n",
       "      <td>electric_bike</td>\n",
       "      <td>2022-08-20 10:37:02.756</td>\n",
       "      <td>2022-08-20 10:45:56.631</td>\n",
       "      <td>Forsyth St\\t&amp; Grand St</td>\n",
       "      <td>5382.07</td>\n",
       "      <td>E 11 St &amp; 1 Ave</td>\n",
       "      <td>5746.14</td>\n",
       "      <td>40.717798</td>\n",
       "      <td>-73.993161</td>\n",
       "      <td>40.729538</td>\n",
       "      <td>-73.984267</td>\n",
       "      <td>casual</td>\n",
       "      <td>NaN</td>\n",
       "      <td>2022-08-20</td>\n",
       "      <td>27.9</td>\n",
       "      <td>both</td>\n",
       "    </tr>\n",
       "    <tr>\n",
       "      <th>2</th>\n",
       "      <td>20C5D469563B6337</td>\n",
       "      <td>classic_bike</td>\n",
       "      <td>2022-08-31 18:55:03.051</td>\n",
       "      <td>2022-08-31 19:03:37.344</td>\n",
       "      <td>Perry St &amp; Bleecker St</td>\n",
       "      <td>5922.07</td>\n",
       "      <td>Grand St &amp; Greene St</td>\n",
       "      <td>5500.02</td>\n",
       "      <td>40.735354</td>\n",
       "      <td>-74.004831</td>\n",
       "      <td>40.721700</td>\n",
       "      <td>-74.002381</td>\n",
       "      <td>member</td>\n",
       "      <td>NaN</td>\n",
       "      <td>2022-08-31</td>\n",
       "      <td>25.6</td>\n",
       "      <td>both</td>\n",
       "    </tr>\n",
       "    <tr>\n",
       "      <th>3</th>\n",
       "      <td>3E8791885BC189D1</td>\n",
       "      <td>classic_bike</td>\n",
       "      <td>2022-08-02 08:05:00.250</td>\n",
       "      <td>2022-08-02 08:16:52.063</td>\n",
       "      <td>FDR Drive &amp; E 35 St</td>\n",
       "      <td>6230.04</td>\n",
       "      <td>Grand Army Plaza &amp; Central Park S</td>\n",
       "      <td>6839.10</td>\n",
       "      <td>40.744219</td>\n",
       "      <td>-73.971212</td>\n",
       "      <td>40.764397</td>\n",
       "      <td>-73.973715</td>\n",
       "      <td>member</td>\n",
       "      <td>NaN</td>\n",
       "      <td>2022-08-02</td>\n",
       "      <td>26.4</td>\n",
       "      <td>both</td>\n",
       "    </tr>\n",
       "    <tr>\n",
       "      <th>4</th>\n",
       "      <td>8DBCBF98885106CB</td>\n",
       "      <td>electric_bike</td>\n",
       "      <td>2022-08-25 15:44:48.386</td>\n",
       "      <td>2022-08-25 15:55:39.691</td>\n",
       "      <td>E 40 St &amp; 5 Ave</td>\n",
       "      <td>6474.11</td>\n",
       "      <td>Ave A &amp; E 14 St</td>\n",
       "      <td>5779.11</td>\n",
       "      <td>40.752052</td>\n",
       "      <td>-73.982115</td>\n",
       "      <td>40.730311</td>\n",
       "      <td>-73.980472</td>\n",
       "      <td>member</td>\n",
       "      <td>NaN</td>\n",
       "      <td>2022-08-25</td>\n",
       "      <td>28.1</td>\n",
       "      <td>both</td>\n",
       "    </tr>\n",
       "  </tbody>\n",
       "</table>\n",
       "</div>"
      ],
      "text/plain": [
       "            ride_id  rideable_type               started_at  \\\n",
       "0  9D0DC440CB40CF8E  electric_bike  2022-08-27 13:56:47.728   \n",
       "1  2214991DFBE5C4D7  electric_bike  2022-08-20 10:37:02.756   \n",
       "2  20C5D469563B6337   classic_bike  2022-08-31 18:55:03.051   \n",
       "3  3E8791885BC189D1   classic_bike  2022-08-02 08:05:00.250   \n",
       "4  8DBCBF98885106CB  electric_bike  2022-08-25 15:44:48.386   \n",
       "\n",
       "                  ended_at        start_station_name start_station_id  \\\n",
       "0  2022-08-27 14:02:56.651  Flatbush Ave & Ocean Ave          3704.04   \n",
       "1  2022-08-20 10:45:56.631    Forsyth St\\t& Grand St          5382.07   \n",
       "2  2022-08-31 19:03:37.344    Perry St & Bleecker St          5922.07   \n",
       "3  2022-08-02 08:16:52.063       FDR Drive & E 35 St          6230.04   \n",
       "4  2022-08-25 15:55:39.691           E 40 St & 5 Ave          6474.11   \n",
       "\n",
       "                    end_station_name end_station_id  start_lat  start_lng  \\\n",
       "0          3 St & Prospect Park West        3865.05  40.663657 -73.963014   \n",
       "1                    E 11 St & 1 Ave        5746.14  40.717798 -73.993161   \n",
       "2               Grand St & Greene St        5500.02  40.735354 -74.004831   \n",
       "3  Grand Army Plaza & Central Park S        6839.10  40.744219 -73.971212   \n",
       "4                    Ave A & E 14 St        5779.11  40.752052 -73.982115   \n",
       "\n",
       "     end_lat    end_lng member_casual  Unnamed: 0        date  avgTemp _merge  \n",
       "0  40.668132 -73.973638        casual         NaN  2022-08-27     27.8   both  \n",
       "1  40.729538 -73.984267        casual         NaN  2022-08-20     27.9   both  \n",
       "2  40.721700 -74.002381        member         NaN  2022-08-31     25.6   both  \n",
       "3  40.764397 -73.973715        member         NaN  2022-08-02     26.4   both  \n",
       "4  40.730311 -73.980472        member         NaN  2022-08-25     28.1   both  "
      ]
     },
     "execution_count": 6,
     "metadata": {},
     "output_type": "execute_result"
    }
   ],
   "source": [
    "df.head()"
   ]
  },
  {
   "cell_type": "markdown",
   "id": "8eef67b3-6d5b-4023-89a4-0a6e2b33df28",
   "metadata": {},
   "source": [
    "### 3. Data Wrangling<a id='data-wrangling'></a>"
   ]
  },
  {
   "cell_type": "markdown",
   "id": "a263d787-d2aa-47e9-aab2-62630ef9723f",
   "metadata": {},
   "source": [
    "#### DELETING UNUSED COLUMNS"
   ]
  },
  {
   "cell_type": "code",
   "execution_count": 7,
   "id": "a615018a-66e1-40d6-96fa-7632daff3e5e",
   "metadata": {},
   "outputs": [],
   "source": [
    "# Drop the 'Unnamed' column and the merge flag\n",
    "df.drop(columns = {'Unnamed: 0', '_merge'}, inplace = True)"
   ]
  },
  {
   "cell_type": "markdown",
   "id": "f4387681-d5b5-4f30-80e5-753b2ee5cf76",
   "metadata": {},
   "source": [
    "#### REMOVING ROWS WITHOUT AVG TEMPERATURE DATA"
   ]
  },
  {
   "cell_type": "code",
   "execution_count": 8,
   "id": "30e71583-f259-4bae-a122-21fe25857fe1",
   "metadata": {},
   "outputs": [],
   "source": [
    "# Remove all rows with no average temperature data\n",
    "df = df[~df['avgTemp'].isna()] "
   ]
  },
  {
   "cell_type": "markdown",
   "id": "86059a98-aa8b-48fc-a8bd-439282d5d78c",
   "metadata": {},
   "source": [
    "#### CLEANING DATA VALUES"
   ]
  },
  {
   "cell_type": "code",
   "execution_count": 9,
   "id": "cbbce400-21ef-4237-9cf3-5b0cf6e66952",
   "metadata": {},
   "outputs": [],
   "source": [
    "df['member_casual'] = df['member_casual'].str.title()"
   ]
  },
  {
   "cell_type": "code",
   "execution_count": 10,
   "id": "afff755e-f535-4c17-b852-b5598237ed00",
   "metadata": {},
   "outputs": [],
   "source": [
    "df['rideable_type'] = df['rideable_type'].replace({'electric_bike':'Electric Bike', 'classic_bike':'Classic Bike'})"
   ]
  },
  {
   "cell_type": "markdown",
   "id": "8bea9cdc-8e1b-421a-99b8-02e449530f90",
   "metadata": {},
   "source": [
    "#### CALCULATING TRIP DURATION \n",
    "    In seconds"
   ]
  },
  {
   "cell_type": "code",
   "execution_count": 11,
   "id": "83ac7483-2509-4040-b141-8ce63cddc9fa",
   "metadata": {},
   "outputs": [],
   "source": [
    "%%capture\n",
    "\n",
    "# Make sure both the start and end time variables are datetime\n",
    "df[['started_at','ended_at']] = df[['started_at','ended_at']].apply(pd.to_datetime)"
   ]
  },
  {
   "cell_type": "code",
   "execution_count": 12,
   "id": "da3a3b66-7f6c-4e44-9f97-a654e01987b7",
   "metadata": {},
   "outputs": [],
   "source": [
    "%%capture\n",
    "\n",
    "# Create a new column that calculates trip duration in seconds\n",
    "df['trip_duration'] = (df['ended_at'] - df['started_at']).dt.seconds"
   ]
  },
  {
   "cell_type": "markdown",
   "id": "ec12fbb0-613e-4aa0-b3bc-5c05dac756c7",
   "metadata": {},
   "source": [
    "#### ISOLATING THE MONTH AND SEASON"
   ]
  },
  {
   "cell_type": "code",
   "execution_count": 13,
   "id": "f3cffbc7-7268-4a8f-b870-f7ad4c542dc0",
   "metadata": {},
   "outputs": [],
   "source": [
    "df['date'] = pd.to_datetime(df['date'])\n",
    "df['month'] = df['date'].dt.month"
   ]
  },
  {
   "cell_type": "code",
   "execution_count": 14,
   "id": "a31d779a-e4ca-4e52-ad94-22b5ca37bce7",
   "metadata": {},
   "outputs": [],
   "source": [
    "df['season'] = df['month'].apply(lambda x: 'Winter' if x in [12, 1, 2]\n",
    "                                            else 'Spring' if x in [3, 4, 5]\n",
    "                                            else 'Summer' if x in [6, 7, 8]\n",
    "                                            else 'Fall')"
   ]
  },
  {
   "cell_type": "markdown",
   "id": "47c16917-d137-45c1-a65b-da33cca523c3",
   "metadata": {
    "tags": []
   },
   "source": [
    "#### CALCULATING TOTAL DAILY BIKE RIDES"
   ]
  },
  {
   "cell_type": "code",
   "execution_count": 15,
   "id": "3644cc6d-8c68-45bd-b072-fbe600cd8404",
   "metadata": {},
   "outputs": [
    {
     "name": "stdout",
     "output_type": "stream",
     "text": [
      "_merge\n",
      "both          29838166\n",
      "left_only            0\n",
      "right_only           0\n",
      "Name: count, dtype: int64\n"
     ]
    }
   ],
   "source": [
    "df['value'] = 1\n",
    "df_group = df.groupby('date', as_index=False).agg({'value': 'sum'})\n",
    "df_group.rename(columns = {'value':'bike_rides_daily'}, inplace = True)\n",
    "df = df.merge(df_group, on = \"date\", how = 'outer', indicator = True)\n",
    "print(df['_merge'].value_counts(dropna = False))"
   ]
  },
  {
   "cell_type": "markdown",
   "id": "47847612-e4c0-4fe5-b72e-ff556df4586e",
   "metadata": {},
   "source": [
    "#### DEALING WITH OUTLIERS\n",
    "    Creating a flag for outliers"
   ]
  },
  {
   "cell_type": "code",
   "execution_count": 16,
   "id": "d082450a-3d68-4534-b45b-3223409d9ac5",
   "metadata": {},
   "outputs": [
    {
     "name": "stdout",
     "output_type": "stream",
     "text": [
      "The interquartile range is 732.0\n"
     ]
    }
   ],
   "source": [
    "# Calculating Q1, Q3, and the interquartile range\n",
    "Q1 = df['trip_duration'].quantile(0.25)\n",
    "Q3 = df['trip_duration'].quantile(0.75)\n",
    "IQR = Q3 - Q1\n",
    "\n",
    "print('The interquartile range is ' + str(IQR))"
   ]
  },
  {
   "cell_type": "code",
   "execution_count": 17,
   "id": "7e3e3380-49dd-4763-8076-a7ae73ecd236",
   "metadata": {},
   "outputs": [
    {
     "name": "stdout",
     "output_type": "stream",
     "text": [
      "number of outliers: 1883666\n",
      "max outlier value: 86399\n",
      "min outlier value: 2178\n"
     ]
    }
   ],
   "source": [
    "# Subsetting the dataset to count the number of outliers\n",
    "outliers = df['trip_duration'][((df['trip_duration'] > (Q3 + 1.5*IQR)))]\n",
    "\n",
    "print('number of outliers: ' + str(len(outliers)))\n",
    "print('max outlier value: ' + str(outliers.max()))\n",
    "print('min outlier value: ' + str(outliers.min()))"
   ]
  },
  {
   "cell_type": "code",
   "execution_count": 18,
   "id": "b41e66d9-92a6-487e-ad60-ed680bdabb4f",
   "metadata": {},
   "outputs": [
    {
     "name": "stdout",
     "output_type": "stream",
     "text": [
      "6.312941619803309% of the trip durations are outliers\n"
     ]
    }
   ],
   "source": [
    "print (str((len(outliers) * 100) / 29838166) + '% of the trip durations are outliers')"
   ]
  },
  {
   "cell_type": "markdown",
   "id": "c6f05432-2128-4fa2-b2a6-f8fb0c930a06",
   "metadata": {},
   "source": [
    "\n",
    "Our limit for cleaning this data is 5%. 6.3% is too many values to remove from analysis. However, we can take the trips that had the top 5% of trip duration, and subset them out of the dataset."
   ]
  },
  {
   "cell_type": "code",
   "execution_count": 19,
   "id": "d8f74d6a-8cce-4879-8419-52dbe1ee08f2",
   "metadata": {},
   "outputs": [
    {
     "data": {
      "text/plain": [
       "1491908.3"
      ]
     },
     "execution_count": 19,
     "metadata": {},
     "output_type": "execute_result"
    }
   ],
   "source": [
    "# Finding 5% of the data\n",
    "(29838166 * 5) / 100"
   ]
  },
  {
   "cell_type": "code",
   "execution_count": 20,
   "id": "94566a89-eaa5-467d-b9e3-322fc7ff3102",
   "metadata": {},
   "outputs": [],
   "source": [
    "# Identify the largest 5% of trip durations\n",
    "df_longest_trips = df.nlargest(1491908, 'trip_duration')"
   ]
  },
  {
   "cell_type": "code",
   "execution_count": 21,
   "id": "6d481a35-7556-4b73-9619-4a8f9c3403f7",
   "metadata": {},
   "outputs": [],
   "source": [
    "df_longest_trips['trip_duration_outliers'] = True\n",
    "df_longest_trips = df_longest_trips[['ride_id','trip_duration_outliers']]"
   ]
  },
  {
   "cell_type": "code",
   "execution_count": 22,
   "id": "7c602b20-05fb-4665-8e5e-4eeb1122a4ba",
   "metadata": {},
   "outputs": [],
   "source": [
    "complete = df.merge(df_longest_trips, how = 'left', on = 'ride_id')"
   ]
  },
  {
   "cell_type": "code",
   "execution_count": 23,
   "id": "1e48bb96-dc53-42c3-affb-720a676a7ad7",
   "metadata": {},
   "outputs": [],
   "source": [
    "complete.fillna({'trip_duration_outliers' : False}, inplace = True)"
   ]
  },
  {
   "cell_type": "code",
   "execution_count": 24,
   "id": "f627b82a-9601-4318-8c2f-5c8435857460",
   "metadata": {},
   "outputs": [
    {
     "data": {
      "text/plain": [
       "trip_duration_outliers\n",
       "False    28346258\n",
       "True      1491908\n",
       "Name: count, dtype: int64"
      ]
     },
     "execution_count": 24,
     "metadata": {},
     "output_type": "execute_result"
    }
   ],
   "source": [
    "complete['trip_duration_outliers'].value_counts()"
   ]
  },
  {
   "cell_type": "markdown",
   "id": "db8b8114-77c1-4684-93a3-394eaad47069",
   "metadata": {},
   "source": [
    "#### DROPPING NEW MERGE COLUMN"
   ]
  },
  {
   "cell_type": "code",
   "execution_count": 32,
   "id": "3dcb7bbc-0eb6-4c2b-bdcc-a2c69844b905",
   "metadata": {
    "tags": []
   },
   "outputs": [],
   "source": [
    "complete = complete.drop(columns = '_merge')"
   ]
  },
  {
   "cell_type": "markdown",
   "id": "678d108d-c971-44b3-8613-52605b81267b",
   "metadata": {},
   "source": [
    "### 4. Complete Data Check<a id='complete-data'></a>"
   ]
  },
  {
   "cell_type": "code",
   "execution_count": 33,
   "id": "548411e7-ef7a-4e5d-9efe-7ba193721279",
   "metadata": {},
   "outputs": [
    {
     "data": {
      "text/plain": [
       "(29838166, 21)"
      ]
     },
     "execution_count": 33,
     "metadata": {},
     "output_type": "execute_result"
    }
   ],
   "source": [
    "complete.shape"
   ]
  },
  {
   "cell_type": "code",
   "execution_count": 34,
   "id": "95d60e4d-8bc7-4be2-9fc8-3cabca217400",
   "metadata": {},
   "outputs": [
    {
     "data": {
      "text/plain": [
       "Index(['ride_id', 'rideable_type', 'started_at', 'ended_at',\n",
       "       'start_station_name', 'start_station_id', 'end_station_name',\n",
       "       'end_station_id', 'start_lat', 'start_lng', 'end_lat', 'end_lng',\n",
       "       'member_casual', 'date', 'avgTemp', 'trip_duration', 'month', 'season',\n",
       "       'value', 'bike_rides_daily', 'trip_duration_outliers'],\n",
       "      dtype='object')"
      ]
     },
     "execution_count": 34,
     "metadata": {},
     "output_type": "execute_result"
    }
   ],
   "source": [
    "complete.columns"
   ]
  },
  {
   "cell_type": "code",
   "execution_count": 35,
   "id": "4d32f877-7f66-42e3-81ef-055c6c9aaac7",
   "metadata": {},
   "outputs": [
    {
     "data": {
      "text/plain": [
       "ride_id                           object\n",
       "rideable_type                     object\n",
       "started_at                datetime64[ns]\n",
       "ended_at                  datetime64[ns]\n",
       "start_station_name                object\n",
       "start_station_id                  object\n",
       "end_station_name                  object\n",
       "end_station_id                    object\n",
       "start_lat                        float64\n",
       "start_lng                        float64\n",
       "end_lat                          float64\n",
       "end_lng                          float64\n",
       "member_casual                     object\n",
       "date                      datetime64[ns]\n",
       "avgTemp                          float64\n",
       "trip_duration                      int32\n",
       "month                              int32\n",
       "season                            object\n",
       "value                              int64\n",
       "bike_rides_daily                   int64\n",
       "trip_duration_outliers              bool\n",
       "dtype: object"
      ]
     },
     "execution_count": 35,
     "metadata": {},
     "output_type": "execute_result"
    }
   ],
   "source": [
    "complete.dtypes"
   ]
  },
  {
   "cell_type": "code",
   "execution_count": 36,
   "id": "3fa30113-ecb2-4791-97ba-13fe3f9cf519",
   "metadata": {},
   "outputs": [
    {
     "data": {
      "text/html": [
       "<div>\n",
       "<style scoped>\n",
       "    .dataframe tbody tr th:only-of-type {\n",
       "        vertical-align: middle;\n",
       "    }\n",
       "\n",
       "    .dataframe tbody tr th {\n",
       "        vertical-align: top;\n",
       "    }\n",
       "\n",
       "    .dataframe thead th {\n",
       "        text-align: right;\n",
       "    }\n",
       "</style>\n",
       "<table border=\"1\" class=\"dataframe\">\n",
       "  <thead>\n",
       "    <tr style=\"text-align: right;\">\n",
       "      <th></th>\n",
       "      <th>ride_id</th>\n",
       "      <th>rideable_type</th>\n",
       "      <th>started_at</th>\n",
       "      <th>ended_at</th>\n",
       "      <th>start_station_name</th>\n",
       "      <th>start_station_id</th>\n",
       "      <th>end_station_name</th>\n",
       "      <th>end_station_id</th>\n",
       "      <th>start_lat</th>\n",
       "      <th>start_lng</th>\n",
       "      <th>...</th>\n",
       "      <th>end_lng</th>\n",
       "      <th>member_casual</th>\n",
       "      <th>date</th>\n",
       "      <th>avgTemp</th>\n",
       "      <th>trip_duration</th>\n",
       "      <th>month</th>\n",
       "      <th>season</th>\n",
       "      <th>value</th>\n",
       "      <th>bike_rides_daily</th>\n",
       "      <th>trip_duration_outliers</th>\n",
       "    </tr>\n",
       "  </thead>\n",
       "  <tbody>\n",
       "    <tr>\n",
       "      <th>0</th>\n",
       "      <td>D09109AEB47FEEA9</td>\n",
       "      <td>Classic Bike</td>\n",
       "      <td>2022-01-01 16:31:02.241</td>\n",
       "      <td>2022-02-03 20:27:00.358</td>\n",
       "      <td>Picnic Point</td>\n",
       "      <td>4374.01</td>\n",
       "      <td>E 16 St &amp; 5 Ave</td>\n",
       "      <td>6022.04</td>\n",
       "      <td>40.685126</td>\n",
       "      <td>-74.025353</td>\n",
       "      <td>...</td>\n",
       "      <td>-73.992390</td>\n",
       "      <td>Casual</td>\n",
       "      <td>2022-01-01</td>\n",
       "      <td>11.6</td>\n",
       "      <td>14158</td>\n",
       "      <td>1</td>\n",
       "      <td>Winter</td>\n",
       "      <td>1</td>\n",
       "      <td>20428</td>\n",
       "      <td>True</td>\n",
       "    </tr>\n",
       "    <tr>\n",
       "      <th>1</th>\n",
       "      <td>ECDFB9C97FAF0F35</td>\n",
       "      <td>Classic Bike</td>\n",
       "      <td>2022-01-01 13:38:37.927</td>\n",
       "      <td>2022-01-01 13:45:58.200</td>\n",
       "      <td>W 13 St &amp; 7 Ave</td>\n",
       "      <td>6030.04</td>\n",
       "      <td>Great Jones St</td>\n",
       "      <td>5636.11</td>\n",
       "      <td>40.737815</td>\n",
       "      <td>-73.999947</td>\n",
       "      <td>...</td>\n",
       "      <td>-73.993790</td>\n",
       "      <td>Casual</td>\n",
       "      <td>2022-01-01</td>\n",
       "      <td>11.6</td>\n",
       "      <td>440</td>\n",
       "      <td>1</td>\n",
       "      <td>Winter</td>\n",
       "      <td>1</td>\n",
       "      <td>20428</td>\n",
       "      <td>False</td>\n",
       "    </tr>\n",
       "    <tr>\n",
       "      <th>2</th>\n",
       "      <td>22F675B5C5A666FD</td>\n",
       "      <td>Classic Bike</td>\n",
       "      <td>2022-01-01 00:18:07.680</td>\n",
       "      <td>2022-01-01 01:19:41.047</td>\n",
       "      <td>W 42 St &amp; Dyer Ave</td>\n",
       "      <td>6644.07</td>\n",
       "      <td>West St &amp; Chambers St</td>\n",
       "      <td>5329.03</td>\n",
       "      <td>40.758985</td>\n",
       "      <td>-73.993800</td>\n",
       "      <td>...</td>\n",
       "      <td>-74.013221</td>\n",
       "      <td>Casual</td>\n",
       "      <td>2022-01-01</td>\n",
       "      <td>11.6</td>\n",
       "      <td>3693</td>\n",
       "      <td>1</td>\n",
       "      <td>Winter</td>\n",
       "      <td>1</td>\n",
       "      <td>20428</td>\n",
       "      <td>True</td>\n",
       "    </tr>\n",
       "    <tr>\n",
       "      <th>3</th>\n",
       "      <td>39DBCC00E8BCCFCF</td>\n",
       "      <td>Classic Bike</td>\n",
       "      <td>2022-01-01 22:40:32.125</td>\n",
       "      <td>2022-01-01 22:46:53.380</td>\n",
       "      <td>8 Ave &amp; W 27 St</td>\n",
       "      <td>6297.07</td>\n",
       "      <td>E 31 St &amp; 3 Ave</td>\n",
       "      <td>6239.08</td>\n",
       "      <td>40.747968</td>\n",
       "      <td>-73.996637</td>\n",
       "      <td>...</td>\n",
       "      <td>-73.979661</td>\n",
       "      <td>Member</td>\n",
       "      <td>2022-01-01</td>\n",
       "      <td>11.6</td>\n",
       "      <td>381</td>\n",
       "      <td>1</td>\n",
       "      <td>Winter</td>\n",
       "      <td>1</td>\n",
       "      <td>20428</td>\n",
       "      <td>False</td>\n",
       "    </tr>\n",
       "    <tr>\n",
       "      <th>4</th>\n",
       "      <td>FB8B1C38D9B41889</td>\n",
       "      <td>Electric Bike</td>\n",
       "      <td>2022-01-01 14:46:57.116</td>\n",
       "      <td>2022-01-01 14:53:41.673</td>\n",
       "      <td>University Pl &amp; E 14 St</td>\n",
       "      <td>5905.14</td>\n",
       "      <td>E 31 St &amp; 3 Ave</td>\n",
       "      <td>6239.08</td>\n",
       "      <td>40.734814</td>\n",
       "      <td>-73.992085</td>\n",
       "      <td>...</td>\n",
       "      <td>-73.979661</td>\n",
       "      <td>Member</td>\n",
       "      <td>2022-01-01</td>\n",
       "      <td>11.6</td>\n",
       "      <td>404</td>\n",
       "      <td>1</td>\n",
       "      <td>Winter</td>\n",
       "      <td>1</td>\n",
       "      <td>20428</td>\n",
       "      <td>False</td>\n",
       "    </tr>\n",
       "  </tbody>\n",
       "</table>\n",
       "<p>5 rows × 21 columns</p>\n",
       "</div>"
      ],
      "text/plain": [
       "            ride_id  rideable_type              started_at  \\\n",
       "0  D09109AEB47FEEA9   Classic Bike 2022-01-01 16:31:02.241   \n",
       "1  ECDFB9C97FAF0F35   Classic Bike 2022-01-01 13:38:37.927   \n",
       "2  22F675B5C5A666FD   Classic Bike 2022-01-01 00:18:07.680   \n",
       "3  39DBCC00E8BCCFCF   Classic Bike 2022-01-01 22:40:32.125   \n",
       "4  FB8B1C38D9B41889  Electric Bike 2022-01-01 14:46:57.116   \n",
       "\n",
       "                 ended_at       start_station_name start_station_id  \\\n",
       "0 2022-02-03 20:27:00.358             Picnic Point          4374.01   \n",
       "1 2022-01-01 13:45:58.200          W 13 St & 7 Ave          6030.04   \n",
       "2 2022-01-01 01:19:41.047       W 42 St & Dyer Ave          6644.07   \n",
       "3 2022-01-01 22:46:53.380          8 Ave & W 27 St          6297.07   \n",
       "4 2022-01-01 14:53:41.673  University Pl & E 14 St          5905.14   \n",
       "\n",
       "        end_station_name end_station_id  start_lat  start_lng  ...    end_lng  \\\n",
       "0        E 16 St & 5 Ave        6022.04  40.685126 -74.025353  ... -73.992390   \n",
       "1         Great Jones St        5636.11  40.737815 -73.999947  ... -73.993790   \n",
       "2  West St & Chambers St        5329.03  40.758985 -73.993800  ... -74.013221   \n",
       "3        E 31 St & 3 Ave        6239.08  40.747968 -73.996637  ... -73.979661   \n",
       "4        E 31 St & 3 Ave        6239.08  40.734814 -73.992085  ... -73.979661   \n",
       "\n",
       "   member_casual       date avgTemp  trip_duration  month  season value  \\\n",
       "0         Casual 2022-01-01    11.6          14158      1  Winter     1   \n",
       "1         Casual 2022-01-01    11.6            440      1  Winter     1   \n",
       "2         Casual 2022-01-01    11.6           3693      1  Winter     1   \n",
       "3         Member 2022-01-01    11.6            381      1  Winter     1   \n",
       "4         Member 2022-01-01    11.6            404      1  Winter     1   \n",
       "\n",
       "   bike_rides_daily  trip_duration_outliers  \n",
       "0             20428                    True  \n",
       "1             20428                   False  \n",
       "2             20428                    True  \n",
       "3             20428                   False  \n",
       "4             20428                   False  \n",
       "\n",
       "[5 rows x 21 columns]"
      ]
     },
     "execution_count": 36,
     "metadata": {},
     "output_type": "execute_result"
    }
   ],
   "source": [
    "complete.head()"
   ]
  },
  {
   "cell_type": "markdown",
   "id": "ab5eef3e-6c13-43f4-9201-65d7ba6722d4",
   "metadata": {},
   "source": [
    "### 5. Export the Data<a id='export-data'></a>"
   ]
  },
  {
   "cell_type": "code",
   "execution_count": 37,
   "id": "bfab6e5a-61ae-4231-a04d-386ea400efac",
   "metadata": {},
   "outputs": [],
   "source": [
    "# Set the destination path for processed data\n",
    "destpath = r'/Users/matthewjones/Documents/CareerFoundry/Data Visualization with Python/Achievement 2/NY-CitiBike/2. Data/Processed Data'\n",
    "\n",
    "complete.to_pickle(os.path.join(destpath, 'cleaned_nyc_bike_weather_data.pkl'))"
   ]
  },
  {
   "cell_type": "code",
   "execution_count": null,
   "id": "08a4889a-7328-4fa9-a900-dfa391df398e",
   "metadata": {},
   "outputs": [],
   "source": [
    "# Set the destination path for processed data\n",
    "destpath = r'/Users/matthewjones/Documents/CareerFoundry/Data Visualization with Python/Achievement 2/NY-CitiBike/2. Data/Processed Data'\n",
    "\n",
    "complete.to_csv(os.path.join(destpath, 'cleaned_nyc_bike_weather_data.csv'))"
   ]
  }
 ],
 "metadata": {
  "kernelspec": {
   "display_name": "Python [conda env:base]",
   "language": "python",
   "name": "conda-base-py"
  },
  "language_info": {
   "codemirror_mode": {
    "name": "ipython",
    "version": 3
   },
   "file_extension": ".py",
   "mimetype": "text/x-python",
   "name": "python",
   "nbconvert_exporter": "python",
   "pygments_lexer": "ipython3",
   "version": "3.11.8"
  }
 },
 "nbformat": 4,
 "nbformat_minor": 5
}
