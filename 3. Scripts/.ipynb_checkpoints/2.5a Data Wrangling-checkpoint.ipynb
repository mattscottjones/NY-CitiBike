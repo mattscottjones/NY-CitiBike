{
 "cells": [
  {
   "cell_type": "markdown",
   "id": "cec4385f-c267-45b7-a589-e968c639ef79",
   "metadata": {},
   "source": [
    "# 2.5A Data Wrangling for Dashboard"
   ]
  },
  {
   "cell_type": "code",
   "execution_count": 1,
   "id": "c231fe77-b5c3-4749-b729-3da880f862c0",
   "metadata": {},
   "outputs": [],
   "source": [
    "import streamlit as st\n",
    "import pandas as pd\n",
    "import numpy as np\n",
    "import os\n",
    "import plotly.express as px\n",
    "from plotly.subplots import make_subplots\n",
    "import plotly.graph_objects as go\n",
    "import matplotlib.pyplot as plt\n",
    "from datetime import datetime as dt\n",
    "from streamlit_keplergl import keplergl_static"
   ]
  },
  {
   "cell_type": "code",
   "execution_count": 2,
   "id": "3c9bcb94-9b2e-4ba8-a3d3-32702258253b",
   "metadata": {},
   "outputs": [],
   "source": [
    "folderpath = r'/Users/matthewjones/Documents/CareerFoundry/Data Visualization with Python/Achievement 2/NY-CitiBike/2. Data/Processed Data'\n",
    "\n",
    "df = pd.read_pickle(os.path.join(folderpath, 'cleaned_nyc_bike_weather_data.pkl'))"
   ]
  },
  {
   "cell_type": "code",
   "execution_count": 3,
   "id": "ac39e4c8-8224-4c55-b36f-456df4c9b00f",
   "metadata": {},
   "outputs": [
    {
     "data": {
      "text/html": [
       "<div>\n",
       "<style scoped>\n",
       "    .dataframe tbody tr th:only-of-type {\n",
       "        vertical-align: middle;\n",
       "    }\n",
       "\n",
       "    .dataframe tbody tr th {\n",
       "        vertical-align: top;\n",
       "    }\n",
       "\n",
       "    .dataframe thead th {\n",
       "        text-align: right;\n",
       "    }\n",
       "</style>\n",
       "<table border=\"1\" class=\"dataframe\">\n",
       "  <thead>\n",
       "    <tr style=\"text-align: right;\">\n",
       "      <th></th>\n",
       "      <th>ride_id</th>\n",
       "      <th>rideable_type</th>\n",
       "      <th>started_at</th>\n",
       "      <th>ended_at</th>\n",
       "      <th>start_station_name</th>\n",
       "      <th>start_station_id</th>\n",
       "      <th>end_station_name</th>\n",
       "      <th>end_station_id</th>\n",
       "      <th>start_lat</th>\n",
       "      <th>start_lng</th>\n",
       "      <th>...</th>\n",
       "      <th>end_lng</th>\n",
       "      <th>member_casual</th>\n",
       "      <th>date</th>\n",
       "      <th>avgTemp</th>\n",
       "      <th>trip_duration</th>\n",
       "      <th>month</th>\n",
       "      <th>season</th>\n",
       "      <th>value</th>\n",
       "      <th>bike_rides_daily</th>\n",
       "      <th>trip_duration_outliers</th>\n",
       "    </tr>\n",
       "  </thead>\n",
       "  <tbody>\n",
       "    <tr>\n",
       "      <th>0</th>\n",
       "      <td>D09109AEB47FEEA9</td>\n",
       "      <td>Classic Bike</td>\n",
       "      <td>2022-01-01 16:31:02.241</td>\n",
       "      <td>2022-02-03 20:27:00.358</td>\n",
       "      <td>Picnic Point</td>\n",
       "      <td>4374.01</td>\n",
       "      <td>E 16 St &amp; 5 Ave</td>\n",
       "      <td>6022.04</td>\n",
       "      <td>40.685126</td>\n",
       "      <td>-74.025353</td>\n",
       "      <td>...</td>\n",
       "      <td>-73.992390</td>\n",
       "      <td>Casual</td>\n",
       "      <td>2022-01-01</td>\n",
       "      <td>11.6</td>\n",
       "      <td>14158</td>\n",
       "      <td>1</td>\n",
       "      <td>Winter</td>\n",
       "      <td>1</td>\n",
       "      <td>20428</td>\n",
       "      <td>True</td>\n",
       "    </tr>\n",
       "    <tr>\n",
       "      <th>1</th>\n",
       "      <td>ECDFB9C97FAF0F35</td>\n",
       "      <td>Classic Bike</td>\n",
       "      <td>2022-01-01 13:38:37.927</td>\n",
       "      <td>2022-01-01 13:45:58.200</td>\n",
       "      <td>W 13 St &amp; 7 Ave</td>\n",
       "      <td>6030.04</td>\n",
       "      <td>Great Jones St</td>\n",
       "      <td>5636.11</td>\n",
       "      <td>40.737815</td>\n",
       "      <td>-73.999947</td>\n",
       "      <td>...</td>\n",
       "      <td>-73.993790</td>\n",
       "      <td>Casual</td>\n",
       "      <td>2022-01-01</td>\n",
       "      <td>11.6</td>\n",
       "      <td>440</td>\n",
       "      <td>1</td>\n",
       "      <td>Winter</td>\n",
       "      <td>1</td>\n",
       "      <td>20428</td>\n",
       "      <td>False</td>\n",
       "    </tr>\n",
       "    <tr>\n",
       "      <th>2</th>\n",
       "      <td>22F675B5C5A666FD</td>\n",
       "      <td>Classic Bike</td>\n",
       "      <td>2022-01-01 00:18:07.680</td>\n",
       "      <td>2022-01-01 01:19:41.047</td>\n",
       "      <td>W 42 St &amp; Dyer Ave</td>\n",
       "      <td>6644.07</td>\n",
       "      <td>West St &amp; Chambers St</td>\n",
       "      <td>5329.03</td>\n",
       "      <td>40.758985</td>\n",
       "      <td>-73.993800</td>\n",
       "      <td>...</td>\n",
       "      <td>-74.013221</td>\n",
       "      <td>Casual</td>\n",
       "      <td>2022-01-01</td>\n",
       "      <td>11.6</td>\n",
       "      <td>3693</td>\n",
       "      <td>1</td>\n",
       "      <td>Winter</td>\n",
       "      <td>1</td>\n",
       "      <td>20428</td>\n",
       "      <td>True</td>\n",
       "    </tr>\n",
       "    <tr>\n",
       "      <th>3</th>\n",
       "      <td>39DBCC00E8BCCFCF</td>\n",
       "      <td>Classic Bike</td>\n",
       "      <td>2022-01-01 22:40:32.125</td>\n",
       "      <td>2022-01-01 22:46:53.380</td>\n",
       "      <td>8 Ave &amp; W 27 St</td>\n",
       "      <td>6297.07</td>\n",
       "      <td>E 31 St &amp; 3 Ave</td>\n",
       "      <td>6239.08</td>\n",
       "      <td>40.747968</td>\n",
       "      <td>-73.996637</td>\n",
       "      <td>...</td>\n",
       "      <td>-73.979661</td>\n",
       "      <td>Member</td>\n",
       "      <td>2022-01-01</td>\n",
       "      <td>11.6</td>\n",
       "      <td>381</td>\n",
       "      <td>1</td>\n",
       "      <td>Winter</td>\n",
       "      <td>1</td>\n",
       "      <td>20428</td>\n",
       "      <td>False</td>\n",
       "    </tr>\n",
       "    <tr>\n",
       "      <th>4</th>\n",
       "      <td>FB8B1C38D9B41889</td>\n",
       "      <td>Electric Bike</td>\n",
       "      <td>2022-01-01 14:46:57.116</td>\n",
       "      <td>2022-01-01 14:53:41.673</td>\n",
       "      <td>University Pl &amp; E 14 St</td>\n",
       "      <td>5905.14</td>\n",
       "      <td>E 31 St &amp; 3 Ave</td>\n",
       "      <td>6239.08</td>\n",
       "      <td>40.734814</td>\n",
       "      <td>-73.992085</td>\n",
       "      <td>...</td>\n",
       "      <td>-73.979661</td>\n",
       "      <td>Member</td>\n",
       "      <td>2022-01-01</td>\n",
       "      <td>11.6</td>\n",
       "      <td>404</td>\n",
       "      <td>1</td>\n",
       "      <td>Winter</td>\n",
       "      <td>1</td>\n",
       "      <td>20428</td>\n",
       "      <td>False</td>\n",
       "    </tr>\n",
       "  </tbody>\n",
       "</table>\n",
       "<p>5 rows × 21 columns</p>\n",
       "</div>"
      ],
      "text/plain": [
       "            ride_id  rideable_type              started_at  \\\n",
       "0  D09109AEB47FEEA9   Classic Bike 2022-01-01 16:31:02.241   \n",
       "1  ECDFB9C97FAF0F35   Classic Bike 2022-01-01 13:38:37.927   \n",
       "2  22F675B5C5A666FD   Classic Bike 2022-01-01 00:18:07.680   \n",
       "3  39DBCC00E8BCCFCF   Classic Bike 2022-01-01 22:40:32.125   \n",
       "4  FB8B1C38D9B41889  Electric Bike 2022-01-01 14:46:57.116   \n",
       "\n",
       "                 ended_at       start_station_name start_station_id  \\\n",
       "0 2022-02-03 20:27:00.358             Picnic Point          4374.01   \n",
       "1 2022-01-01 13:45:58.200          W 13 St & 7 Ave          6030.04   \n",
       "2 2022-01-01 01:19:41.047       W 42 St & Dyer Ave          6644.07   \n",
       "3 2022-01-01 22:46:53.380          8 Ave & W 27 St          6297.07   \n",
       "4 2022-01-01 14:53:41.673  University Pl & E 14 St          5905.14   \n",
       "\n",
       "        end_station_name end_station_id  start_lat  start_lng  ...    end_lng  \\\n",
       "0        E 16 St & 5 Ave        6022.04  40.685126 -74.025353  ... -73.992390   \n",
       "1         Great Jones St        5636.11  40.737815 -73.999947  ... -73.993790   \n",
       "2  West St & Chambers St        5329.03  40.758985 -73.993800  ... -74.013221   \n",
       "3        E 31 St & 3 Ave        6239.08  40.747968 -73.996637  ... -73.979661   \n",
       "4        E 31 St & 3 Ave        6239.08  40.734814 -73.992085  ... -73.979661   \n",
       "\n",
       "   member_casual       date avgTemp  trip_duration  month  season value  \\\n",
       "0         Casual 2022-01-01    11.6          14158      1  Winter     1   \n",
       "1         Casual 2022-01-01    11.6            440      1  Winter     1   \n",
       "2         Casual 2022-01-01    11.6           3693      1  Winter     1   \n",
       "3         Member 2022-01-01    11.6            381      1  Winter     1   \n",
       "4         Member 2022-01-01    11.6            404      1  Winter     1   \n",
       "\n",
       "   bike_rides_daily  trip_duration_outliers  \n",
       "0             20428                    True  \n",
       "1             20428                   False  \n",
       "2             20428                    True  \n",
       "3             20428                   False  \n",
       "4             20428                   False  \n",
       "\n",
       "[5 rows x 21 columns]"
      ]
     },
     "execution_count": 3,
     "metadata": {},
     "output_type": "execute_result"
    }
   ],
   "source": [
    "df.head()"
   ]
  },
  {
   "cell_type": "code",
   "execution_count": 6,
   "id": "cea6467f-8531-424c-9649-aa14920d1d01",
   "metadata": {},
   "outputs": [],
   "source": [
    "df1 = df.drop(columns = {'ride_id', 'started_at', 'ended_at', 'start_station_id',\n",
    "                         'end_station_id', 'start_lat', 'start_lng', 'end_lat',\n",
    "                         'end_lng', 'member_casual', 'month', 'trip_duration_outliers'})"
   ]
  },
  {
   "cell_type": "code",
   "execution_count": 7,
   "id": "1da687e0-97a2-40da-a963-4a740e8cb3c4",
   "metadata": {},
   "outputs": [
    {
     "data": {
      "text/html": [
       "<div>\n",
       "<style scoped>\n",
       "    .dataframe tbody tr th:only-of-type {\n",
       "        vertical-align: middle;\n",
       "    }\n",
       "\n",
       "    .dataframe tbody tr th {\n",
       "        vertical-align: top;\n",
       "    }\n",
       "\n",
       "    .dataframe thead th {\n",
       "        text-align: right;\n",
       "    }\n",
       "</style>\n",
       "<table border=\"1\" class=\"dataframe\">\n",
       "  <thead>\n",
       "    <tr style=\"text-align: right;\">\n",
       "      <th></th>\n",
       "      <th>rideable_type</th>\n",
       "      <th>start_station_name</th>\n",
       "      <th>end_station_name</th>\n",
       "      <th>date</th>\n",
       "      <th>avgTemp</th>\n",
       "      <th>trip_duration</th>\n",
       "      <th>season</th>\n",
       "      <th>value</th>\n",
       "      <th>bike_rides_daily</th>\n",
       "    </tr>\n",
       "  </thead>\n",
       "  <tbody>\n",
       "    <tr>\n",
       "      <th>0</th>\n",
       "      <td>Classic Bike</td>\n",
       "      <td>Picnic Point</td>\n",
       "      <td>E 16 St &amp; 5 Ave</td>\n",
       "      <td>2022-01-01</td>\n",
       "      <td>11.6</td>\n",
       "      <td>14158</td>\n",
       "      <td>Winter</td>\n",
       "      <td>1</td>\n",
       "      <td>20428</td>\n",
       "    </tr>\n",
       "    <tr>\n",
       "      <th>1</th>\n",
       "      <td>Classic Bike</td>\n",
       "      <td>W 13 St &amp; 7 Ave</td>\n",
       "      <td>Great Jones St</td>\n",
       "      <td>2022-01-01</td>\n",
       "      <td>11.6</td>\n",
       "      <td>440</td>\n",
       "      <td>Winter</td>\n",
       "      <td>1</td>\n",
       "      <td>20428</td>\n",
       "    </tr>\n",
       "    <tr>\n",
       "      <th>2</th>\n",
       "      <td>Classic Bike</td>\n",
       "      <td>W 42 St &amp; Dyer Ave</td>\n",
       "      <td>West St &amp; Chambers St</td>\n",
       "      <td>2022-01-01</td>\n",
       "      <td>11.6</td>\n",
       "      <td>3693</td>\n",
       "      <td>Winter</td>\n",
       "      <td>1</td>\n",
       "      <td>20428</td>\n",
       "    </tr>\n",
       "    <tr>\n",
       "      <th>3</th>\n",
       "      <td>Classic Bike</td>\n",
       "      <td>8 Ave &amp; W 27 St</td>\n",
       "      <td>E 31 St &amp; 3 Ave</td>\n",
       "      <td>2022-01-01</td>\n",
       "      <td>11.6</td>\n",
       "      <td>381</td>\n",
       "      <td>Winter</td>\n",
       "      <td>1</td>\n",
       "      <td>20428</td>\n",
       "    </tr>\n",
       "    <tr>\n",
       "      <th>4</th>\n",
       "      <td>Electric Bike</td>\n",
       "      <td>University Pl &amp; E 14 St</td>\n",
       "      <td>E 31 St &amp; 3 Ave</td>\n",
       "      <td>2022-01-01</td>\n",
       "      <td>11.6</td>\n",
       "      <td>404</td>\n",
       "      <td>Winter</td>\n",
       "      <td>1</td>\n",
       "      <td>20428</td>\n",
       "    </tr>\n",
       "  </tbody>\n",
       "</table>\n",
       "</div>"
      ],
      "text/plain": [
       "   rideable_type       start_station_name       end_station_name       date  \\\n",
       "0   Classic Bike             Picnic Point        E 16 St & 5 Ave 2022-01-01   \n",
       "1   Classic Bike          W 13 St & 7 Ave         Great Jones St 2022-01-01   \n",
       "2   Classic Bike       W 42 St & Dyer Ave  West St & Chambers St 2022-01-01   \n",
       "3   Classic Bike          8 Ave & W 27 St        E 31 St & 3 Ave 2022-01-01   \n",
       "4  Electric Bike  University Pl & E 14 St        E 31 St & 3 Ave 2022-01-01   \n",
       "\n",
       "   avgTemp  trip_duration  season  value  bike_rides_daily  \n",
       "0     11.6          14158  Winter      1             20428  \n",
       "1     11.6            440  Winter      1             20428  \n",
       "2     11.6           3693  Winter      1             20428  \n",
       "3     11.6            381  Winter      1             20428  \n",
       "4     11.6            404  Winter      1             20428  "
      ]
     },
     "execution_count": 7,
     "metadata": {},
     "output_type": "execute_result"
    }
   ],
   "source": [
    "df1.head()"
   ]
  },
  {
   "cell_type": "code",
   "execution_count": 8,
   "id": "d8af4a1f-2105-4ffa-bf95-ba67c0b68e13",
   "metadata": {},
   "outputs": [
    {
     "data": {
      "text/plain": [
       "(29838166, 9)"
      ]
     },
     "execution_count": 8,
     "metadata": {},
     "output_type": "execute_result"
    }
   ],
   "source": [
    "df1.shape"
   ]
  },
  {
   "cell_type": "markdown",
   "id": "6c8f5b84-c9ec-4bb0-b1bd-32e20e024069",
   "metadata": {},
   "source": [
    "### DATA WRANGLING"
   ]
  },
  {
   "cell_type": "code",
   "execution_count": 15,
   "id": "5b450a0a-4301-49b0-ad94-7d53e83c50dd",
   "metadata": {},
   "outputs": [],
   "source": [
    "df_temp = df1[['date', 'avgTemp']]\n",
    "df_temp = df_temp.groupby('date', as_index = False).agg(pd.Series.mode)"
   ]
  },
  {
   "cell_type": "code",
   "execution_count": 40,
   "id": "91f5099b-21a1-4cc9-b99c-eb871b817ec5",
   "metadata": {},
   "outputs": [],
   "source": [
    "df_daily_rides = df1[['date', 'value']]\n",
    "df_daily_rides = df_daily_rides.groupby('date', as_index = False).sum('value')\n",
    "df_daily_rides = df_daily_rides.rename(columns = {'value': 'Daily Rides'})"
   ]
  },
  {
   "cell_type": "code",
   "execution_count": 39,
   "id": "564dfe8c-7581-49d9-9894-aac41a1bae39",
   "metadata": {},
   "outputs": [],
   "source": [
    "df_classic_daily_rides = df1[['date', 'rideable_type', 'value']]\n",
    "df_classic_daily_rides = df_classic_daily_rides.groupby(['date', 'rideable_type'], as_index = False).sum('value')\n",
    "df_classic_daily_rides = df_classic_daily_rides.loc[df_classic_daily_rides['rideable_type'] == 'Classic Bike']\n",
    "df_classic_daily_rides = df_classic_daily_rides.rename(columns = {'value': 'Daily Classic Rides'})"
   ]
  },
  {
   "cell_type": "code",
   "execution_count": 33,
   "id": "f8ae0a82-454f-43a3-9376-31c415fb7ac4",
   "metadata": {},
   "outputs": [],
   "source": [
    "line_chart_data = df_temp.merge(df_daily_rides, on = 'date', how = 'left')"
   ]
  },
  {
   "cell_type": "code",
   "execution_count": 37,
   "id": "2f582881-317a-4323-8a9c-1d2bb090c4da",
   "metadata": {},
   "outputs": [],
   "source": [
    "line_chart_data = line_chart_data.merge(df_classic_daily_rides[['date', 'Daily Classic Rides']], \n",
    "                                        on = 'date', how = 'left')"
   ]
  },
  {
   "cell_type": "code",
   "execution_count": 42,
   "id": "b2b7fd34-cc86-400c-ac08-b76d211566b0",
   "metadata": {},
   "outputs": [],
   "source": [
    "line_chart_data = line_chart_data.rename(columns = {'date' : 'Date', 'avgTemp' : 'Average Temperature'})"
   ]
  },
  {
   "cell_type": "code",
   "execution_count": 43,
   "id": "be147ade-c817-402c-b7d2-934a27168b3e",
   "metadata": {},
   "outputs": [
    {
     "data": {
      "text/html": [
       "<div>\n",
       "<style scoped>\n",
       "    .dataframe tbody tr th:only-of-type {\n",
       "        vertical-align: middle;\n",
       "    }\n",
       "\n",
       "    .dataframe tbody tr th {\n",
       "        vertical-align: top;\n",
       "    }\n",
       "\n",
       "    .dataframe thead th {\n",
       "        text-align: right;\n",
       "    }\n",
       "</style>\n",
       "<table border=\"1\" class=\"dataframe\">\n",
       "  <thead>\n",
       "    <tr style=\"text-align: right;\">\n",
       "      <th></th>\n",
       "      <th>Date</th>\n",
       "      <th>Average Temperature</th>\n",
       "      <th>Daily Rides</th>\n",
       "      <th>Daily Classic Rides</th>\n",
       "    </tr>\n",
       "  </thead>\n",
       "  <tbody>\n",
       "    <tr>\n",
       "      <th>0</th>\n",
       "      <td>2022-01-01</td>\n",
       "      <td>11.6</td>\n",
       "      <td>20428</td>\n",
       "      <td>11399</td>\n",
       "    </tr>\n",
       "    <tr>\n",
       "      <th>1</th>\n",
       "      <td>2022-01-02</td>\n",
       "      <td>11.4</td>\n",
       "      <td>43009</td>\n",
       "      <td>26857</td>\n",
       "    </tr>\n",
       "    <tr>\n",
       "      <th>2</th>\n",
       "      <td>2022-01-03</td>\n",
       "      <td>1.4</td>\n",
       "      <td>33189</td>\n",
       "      <td>19583</td>\n",
       "    </tr>\n",
       "    <tr>\n",
       "      <th>3</th>\n",
       "      <td>2022-01-04</td>\n",
       "      <td>-2.7</td>\n",
       "      <td>36842</td>\n",
       "      <td>22476</td>\n",
       "    </tr>\n",
       "    <tr>\n",
       "      <th>4</th>\n",
       "      <td>2022-01-05</td>\n",
       "      <td>3.2</td>\n",
       "      <td>34230</td>\n",
       "      <td>20676</td>\n",
       "    </tr>\n",
       "  </tbody>\n",
       "</table>\n",
       "</div>"
      ],
      "text/plain": [
       "        Date  Average Temperature  Daily Rides  Daily Classic Rides\n",
       "0 2022-01-01                 11.6        20428                11399\n",
       "1 2022-01-02                 11.4        43009                26857\n",
       "2 2022-01-03                  1.4        33189                19583\n",
       "3 2022-01-04                 -2.7        36842                22476\n",
       "4 2022-01-05                  3.2        34230                20676"
      ]
     },
     "execution_count": 43,
     "metadata": {},
     "output_type": "execute_result"
    }
   ],
   "source": [
    "line_chart_data.head()"
   ]
  },
  {
   "cell_type": "code",
   "execution_count": 44,
   "id": "21b997dc-d902-4cc3-8989-9eb0f2b1f96f",
   "metadata": {},
   "outputs": [],
   "source": [
    "df_bar = df1[['start_station_name', 'end_station_name', 'rideable_type', 'season', 'value']]"
   ]
  },
  {
   "cell_type": "code",
   "execution_count": 49,
   "id": "2d25ea29-9460-4bf0-a661-15089b9bc607",
   "metadata": {},
   "outputs": [],
   "source": [
    "df_bar_start = df_bar.groupby('start_station_name', as_index=False).sum('value')\n",
    "df_top_start = df_bar_start.nlargest(20, 'value')\n",
    "top_start_list = df_top_start['start_station_name'].tolist()"
   ]
  },
  {
   "cell_type": "code",
   "execution_count": 53,
   "id": "1e94ed53-e538-42ab-a4ce-1adb7c4f5763",
   "metadata": {},
   "outputs": [],
   "source": [
    "top_start_data = df_bar.loc[df_bar['start_station_name'].isin(top_start_list)]\n",
    "grouped_start = top_start_data.groupby(['start_station_name', 'rideable_type', 'season'], \n",
    "                                       as_index=False).sum('value')\n",
    "grouped_start = grouped_start.rename(columns = {'value' : 'Total'})"
   ]
  },
  {
   "cell_type": "code",
   "execution_count": 55,
   "id": "327a2f93-7307-4c4a-9765-a05770089cc6",
   "metadata": {},
   "outputs": [],
   "source": [
    "df_bar_end = df_bar.groupby('end_station_name', as_index=False).sum('value')\n",
    "df_top_end = df_bar_end.nlargest(20, 'value')\n",
    "top_end_list = df_top_end['end_station_name'].tolist()"
   ]
  },
  {
   "cell_type": "code",
   "execution_count": 62,
   "id": "7df9bdad-4c13-4d2d-bbce-b9c15adf4b2b",
   "metadata": {},
   "outputs": [],
   "source": [
    "top_end_data = df_bar.loc[df_bar['end_station_name'].isin(top_end_list)]\n",
    "grouped_end = top_end_data.groupby(['end_station_name', 'rideable_type', 'season'], \n",
    "                                       as_index=False).sum('value')\n",
    "grouped_end = grouped_end.rename(columns = {'value' : 'Total'})"
   ]
  },
  {
   "cell_type": "code",
   "execution_count": 65,
   "id": "6f8b3a9d-1de7-46a3-bbc5-d645dabb938b",
   "metadata": {},
   "outputs": [],
   "source": [
    "grouped_start = grouped_start.merge(df_top_start[['start_station_name', 'value']], on='start_station_name', how='left')\n",
    "grouped_end = grouped_end.merge(df_top_end[['end_station_name', 'value']], on='end_station_name', how='left')"
   ]
  },
  {
   "cell_type": "code",
   "execution_count": 67,
   "id": "b6349748-f1fb-4763-ae5e-ef40aa51ed4e",
   "metadata": {},
   "outputs": [],
   "source": [
    "grouped_start = grouped_start.rename(columns = {'value' : 'Grand Total'})\n",
    "grouped_end = grouped_end.rename(columns = {'value' : 'Grand Total'})"
   ]
  },
  {
   "cell_type": "code",
   "execution_count": 68,
   "id": "37ad639f-0018-4791-8180-8f4f2bf2c545",
   "metadata": {},
   "outputs": [
    {
     "data": {
      "text/html": [
       "<div>\n",
       "<style scoped>\n",
       "    .dataframe tbody tr th:only-of-type {\n",
       "        vertical-align: middle;\n",
       "    }\n",
       "\n",
       "    .dataframe tbody tr th {\n",
       "        vertical-align: top;\n",
       "    }\n",
       "\n",
       "    .dataframe thead th {\n",
       "        text-align: right;\n",
       "    }\n",
       "</style>\n",
       "<table border=\"1\" class=\"dataframe\">\n",
       "  <thead>\n",
       "    <tr style=\"text-align: right;\">\n",
       "      <th></th>\n",
       "      <th>start_station_name</th>\n",
       "      <th>rideable_type</th>\n",
       "      <th>season</th>\n",
       "      <th>Total</th>\n",
       "      <th>Grand Total</th>\n",
       "    </tr>\n",
       "  </thead>\n",
       "  <tbody>\n",
       "    <tr>\n",
       "      <th>0</th>\n",
       "      <td>1 Ave &amp; E 68 St</td>\n",
       "      <td>Classic Bike</td>\n",
       "      <td>Fall</td>\n",
       "      <td>14736</td>\n",
       "      <td>104856</td>\n",
       "    </tr>\n",
       "    <tr>\n",
       "      <th>1</th>\n",
       "      <td>1 Ave &amp; E 68 St</td>\n",
       "      <td>Classic Bike</td>\n",
       "      <td>Spring</td>\n",
       "      <td>15016</td>\n",
       "      <td>104856</td>\n",
       "    </tr>\n",
       "    <tr>\n",
       "      <th>2</th>\n",
       "      <td>1 Ave &amp; E 68 St</td>\n",
       "      <td>Classic Bike</td>\n",
       "      <td>Summer</td>\n",
       "      <td>19145</td>\n",
       "      <td>104856</td>\n",
       "    </tr>\n",
       "    <tr>\n",
       "      <th>3</th>\n",
       "      <td>1 Ave &amp; E 68 St</td>\n",
       "      <td>Classic Bike</td>\n",
       "      <td>Winter</td>\n",
       "      <td>7940</td>\n",
       "      <td>104856</td>\n",
       "    </tr>\n",
       "    <tr>\n",
       "      <th>4</th>\n",
       "      <td>1 Ave &amp; E 68 St</td>\n",
       "      <td>Electric Bike</td>\n",
       "      <td>Fall</td>\n",
       "      <td>14289</td>\n",
       "      <td>104856</td>\n",
       "    </tr>\n",
       "  </tbody>\n",
       "</table>\n",
       "</div>"
      ],
      "text/plain": [
       "  start_station_name  rideable_type  season  Total  Grand Total\n",
       "0    1 Ave & E 68 St   Classic Bike    Fall  14736       104856\n",
       "1    1 Ave & E 68 St   Classic Bike  Spring  15016       104856\n",
       "2    1 Ave & E 68 St   Classic Bike  Summer  19145       104856\n",
       "3    1 Ave & E 68 St   Classic Bike  Winter   7940       104856\n",
       "4    1 Ave & E 68 St  Electric Bike    Fall  14289       104856"
      ]
     },
     "execution_count": 68,
     "metadata": {},
     "output_type": "execute_result"
    }
   ],
   "source": [
    "grouped_start.head()"
   ]
  },
  {
   "cell_type": "code",
   "execution_count": 69,
   "id": "64859622-35c2-4505-94bf-b36fae9fa60b",
   "metadata": {},
   "outputs": [
    {
     "data": {
      "text/html": [
       "<div>\n",
       "<style scoped>\n",
       "    .dataframe tbody tr th:only-of-type {\n",
       "        vertical-align: middle;\n",
       "    }\n",
       "\n",
       "    .dataframe tbody tr th {\n",
       "        vertical-align: top;\n",
       "    }\n",
       "\n",
       "    .dataframe thead th {\n",
       "        text-align: right;\n",
       "    }\n",
       "</style>\n",
       "<table border=\"1\" class=\"dataframe\">\n",
       "  <thead>\n",
       "    <tr style=\"text-align: right;\">\n",
       "      <th></th>\n",
       "      <th>end_station_name</th>\n",
       "      <th>rideable_type</th>\n",
       "      <th>season</th>\n",
       "      <th>Total</th>\n",
       "      <th>Grand Total</th>\n",
       "    </tr>\n",
       "  </thead>\n",
       "  <tbody>\n",
       "    <tr>\n",
       "      <th>0</th>\n",
       "      <td>1 Ave &amp; E 68 St</td>\n",
       "      <td>Classic Bike</td>\n",
       "      <td>Fall</td>\n",
       "      <td>14813</td>\n",
       "      <td>105121</td>\n",
       "    </tr>\n",
       "    <tr>\n",
       "      <th>1</th>\n",
       "      <td>1 Ave &amp; E 68 St</td>\n",
       "      <td>Classic Bike</td>\n",
       "      <td>Spring</td>\n",
       "      <td>15068</td>\n",
       "      <td>105121</td>\n",
       "    </tr>\n",
       "    <tr>\n",
       "      <th>2</th>\n",
       "      <td>1 Ave &amp; E 68 St</td>\n",
       "      <td>Classic Bike</td>\n",
       "      <td>Summer</td>\n",
       "      <td>19085</td>\n",
       "      <td>105121</td>\n",
       "    </tr>\n",
       "    <tr>\n",
       "      <th>3</th>\n",
       "      <td>1 Ave &amp; E 68 St</td>\n",
       "      <td>Classic Bike</td>\n",
       "      <td>Winter</td>\n",
       "      <td>7786</td>\n",
       "      <td>105121</td>\n",
       "    </tr>\n",
       "    <tr>\n",
       "      <th>4</th>\n",
       "      <td>1 Ave &amp; E 68 St</td>\n",
       "      <td>Electric Bike</td>\n",
       "      <td>Fall</td>\n",
       "      <td>14425</td>\n",
       "      <td>105121</td>\n",
       "    </tr>\n",
       "  </tbody>\n",
       "</table>\n",
       "</div>"
      ],
      "text/plain": [
       "  end_station_name  rideable_type  season  Total  Grand Total\n",
       "0  1 Ave & E 68 St   Classic Bike    Fall  14813       105121\n",
       "1  1 Ave & E 68 St   Classic Bike  Spring  15068       105121\n",
       "2  1 Ave & E 68 St   Classic Bike  Summer  19085       105121\n",
       "3  1 Ave & E 68 St   Classic Bike  Winter   7786       105121\n",
       "4  1 Ave & E 68 St  Electric Bike    Fall  14425       105121"
      ]
     },
     "execution_count": 69,
     "metadata": {},
     "output_type": "execute_result"
    }
   ],
   "source": [
    "grouped_end.head()"
   ]
  },
  {
   "cell_type": "code",
   "execution_count": 75,
   "id": "bb54c258-49b9-497c-8c1c-f58aa441cf36",
   "metadata": {},
   "outputs": [],
   "source": [
    "df_payment = df[['member_casual', 'value']]"
   ]
  },
  {
   "cell_type": "code",
   "execution_count": 76,
   "id": "9741dcef-45bb-4d5b-8fe7-b974a11585f8",
   "metadata": {},
   "outputs": [],
   "source": [
    "df_payment_pie = df_payment.groupby('member_casual').sum('value')"
   ]
  },
  {
   "cell_type": "code",
   "execution_count": 77,
   "id": "db254aff-7f4e-453d-9b0b-11ca9647289d",
   "metadata": {},
   "outputs": [
    {
     "data": {
      "text/html": [
       "<div>\n",
       "<style scoped>\n",
       "    .dataframe tbody tr th:only-of-type {\n",
       "        vertical-align: middle;\n",
       "    }\n",
       "\n",
       "    .dataframe tbody tr th {\n",
       "        vertical-align: top;\n",
       "    }\n",
       "\n",
       "    .dataframe thead th {\n",
       "        text-align: right;\n",
       "    }\n",
       "</style>\n",
       "<table border=\"1\" class=\"dataframe\">\n",
       "  <thead>\n",
       "    <tr style=\"text-align: right;\">\n",
       "      <th></th>\n",
       "      <th>value</th>\n",
       "    </tr>\n",
       "    <tr>\n",
       "      <th>member_casual</th>\n",
       "      <th></th>\n",
       "    </tr>\n",
       "  </thead>\n",
       "  <tbody>\n",
       "    <tr>\n",
       "      <th>Casual</th>\n",
       "      <td>6580665</td>\n",
       "    </tr>\n",
       "    <tr>\n",
       "      <th>Member</th>\n",
       "      <td>23257501</td>\n",
       "    </tr>\n",
       "  </tbody>\n",
       "</table>\n",
       "</div>"
      ],
      "text/plain": [
       "                  value\n",
       "member_casual          \n",
       "Casual          6580665\n",
       "Member         23257501"
      ]
     },
     "execution_count": 77,
     "metadata": {},
     "output_type": "execute_result"
    }
   ],
   "source": [
    "df_payment_pie"
   ]
  },
  {
   "cell_type": "code",
   "execution_count": 83,
   "id": "94e71d40-c03b-46b8-ad78-4cc32516b615",
   "metadata": {},
   "outputs": [],
   "source": [
    "df_duration = df[['trip_duration', 'value', 'season', 'trip_duration_outliers']]"
   ]
  },
  {
   "cell_type": "code",
   "execution_count": 84,
   "id": "3a762434-9e70-4453-aed4-9394821045b6",
   "metadata": {},
   "outputs": [],
   "source": [
    "df_duration_clean = df_duration[~df_duration['trip_duration_outliers'] == True] "
   ]
  },
  {
   "cell_type": "code",
   "execution_count": 85,
   "id": "6689e9ac-bb10-43d6-8f99-36e76e71036b",
   "metadata": {},
   "outputs": [
    {
     "data": {
      "text/html": [
       "<div>\n",
       "<style scoped>\n",
       "    .dataframe tbody tr th:only-of-type {\n",
       "        vertical-align: middle;\n",
       "    }\n",
       "\n",
       "    .dataframe tbody tr th {\n",
       "        vertical-align: top;\n",
       "    }\n",
       "\n",
       "    .dataframe thead th {\n",
       "        text-align: right;\n",
       "    }\n",
       "</style>\n",
       "<table border=\"1\" class=\"dataframe\">\n",
       "  <thead>\n",
       "    <tr style=\"text-align: right;\">\n",
       "      <th></th>\n",
       "      <th>trip_duration</th>\n",
       "      <th>value</th>\n",
       "      <th>season</th>\n",
       "      <th>trip_duration_outliers</th>\n",
       "    </tr>\n",
       "  </thead>\n",
       "  <tbody>\n",
       "    <tr>\n",
       "      <th>1</th>\n",
       "      <td>440</td>\n",
       "      <td>1</td>\n",
       "      <td>Winter</td>\n",
       "      <td>False</td>\n",
       "    </tr>\n",
       "    <tr>\n",
       "      <th>3</th>\n",
       "      <td>381</td>\n",
       "      <td>1</td>\n",
       "      <td>Winter</td>\n",
       "      <td>False</td>\n",
       "    </tr>\n",
       "    <tr>\n",
       "      <th>4</th>\n",
       "      <td>404</td>\n",
       "      <td>1</td>\n",
       "      <td>Winter</td>\n",
       "      <td>False</td>\n",
       "    </tr>\n",
       "    <tr>\n",
       "      <th>5</th>\n",
       "      <td>1786</td>\n",
       "      <td>1</td>\n",
       "      <td>Winter</td>\n",
       "      <td>False</td>\n",
       "    </tr>\n",
       "    <tr>\n",
       "      <th>6</th>\n",
       "      <td>1758</td>\n",
       "      <td>1</td>\n",
       "      <td>Winter</td>\n",
       "      <td>False</td>\n",
       "    </tr>\n",
       "  </tbody>\n",
       "</table>\n",
       "</div>"
      ],
      "text/plain": [
       "   trip_duration  value  season  trip_duration_outliers\n",
       "1            440      1  Winter                   False\n",
       "3            381      1  Winter                   False\n",
       "4            404      1  Winter                   False\n",
       "5           1786      1  Winter                   False\n",
       "6           1758      1  Winter                   False"
      ]
     },
     "execution_count": 85,
     "metadata": {},
     "output_type": "execute_result"
    }
   ],
   "source": [
    "df_duration_clean.head()"
   ]
  },
  {
   "cell_type": "code",
   "execution_count": 105,
   "id": "0781e4ef-3454-41d5-81d0-59c75650bf5c",
   "metadata": {},
   "outputs": [],
   "source": [
    "np.random.seed(32)\n",
    "red = np.random.rand(len(df_duration_clean)) <= 0.97"
   ]
  },
  {
   "cell_type": "code",
   "execution_count": 106,
   "id": "8092cc66-d141-45d8-9839-411a12a3fe40",
   "metadata": {},
   "outputs": [],
   "source": [
    "small = df_duration_clean[~red]"
   ]
  },
  {
   "cell_type": "code",
   "execution_count": 107,
   "id": "3bb343a5-833a-451c-9931-2d49d230219f",
   "metadata": {},
   "outputs": [
    {
     "data": {
      "text/plain": [
       "(849848, 4)"
      ]
     },
     "execution_count": 107,
     "metadata": {},
     "output_type": "execute_result"
    }
   ],
   "source": [
    "small.shape"
   ]
  },
  {
   "cell_type": "markdown",
   "id": "cba14134-0f6a-4bd2-920e-f900f0527085",
   "metadata": {},
   "source": [
    "### EXPORT DATA"
   ]
  },
  {
   "cell_type": "code",
   "execution_count": 70,
   "id": "e954a2c9-00a6-494a-9010-53459bd71c39",
   "metadata": {},
   "outputs": [],
   "source": [
    "line_chart_data.to_csv(os.path.join(folderpath, 'DB_line_chart_data.csv'), index=True)"
   ]
  },
  {
   "cell_type": "code",
   "execution_count": 71,
   "id": "bbe523ce-f814-412d-8b6f-6241a384ef97",
   "metadata": {},
   "outputs": [],
   "source": [
    "grouped_start.to_csv(os.path.join(folderpath, 'DB_bar_chart_start.csv'), index=True)"
   ]
  },
  {
   "cell_type": "code",
   "execution_count": 72,
   "id": "49720bc5-83af-4bd9-9538-2e316a0c0cce",
   "metadata": {},
   "outputs": [],
   "source": [
    "grouped_end.to_csv(os.path.join(folderpath, 'DB_bar_chart_end.csv'), index=True)"
   ]
  },
  {
   "cell_type": "code",
   "execution_count": 86,
   "id": "178abd7b-e176-4821-9cf7-51b926d74d2b",
   "metadata": {},
   "outputs": [],
   "source": [
    "df_payment_hist.to_csv(os.path.join(folderpath, 'DB_pie_payment.csv'), index=True)"
   ]
  },
  {
   "cell_type": "code",
   "execution_count": 108,
   "id": "c2ac87bf-1a9b-45a9-b086-7f8d6f687d30",
   "metadata": {},
   "outputs": [],
   "source": [
    "small.to_csv(os.path.join(folderpath, 'DB_hist_duration.csv'), index=True)"
   ]
  },
  {
   "cell_type": "code",
   "execution_count": null,
   "id": "c4350f7c-fb4f-4690-bfdb-65bdc86b53f5",
   "metadata": {},
   "outputs": [],
   "source": []
  }
 ],
 "metadata": {
  "kernelspec": {
   "display_name": "venv_divvy",
   "language": "python",
   "name": "venv_divvy"
  },
  "language_info": {
   "codemirror_mode": {
    "name": "ipython",
    "version": 3
   },
   "file_extension": ".py",
   "mimetype": "text/x-python",
   "name": "python",
   "nbconvert_exporter": "python",
   "pygments_lexer": "ipython3",
   "version": "3.12.3"
  }
 },
 "nbformat": 4,
 "nbformat_minor": 5
}
