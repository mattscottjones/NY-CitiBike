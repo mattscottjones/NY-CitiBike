{
 "cells": [
  {
   "cell_type": "markdown",
   "id": "ee936bce-334b-4419-930b-da2638ec4ae7",
   "metadata": {},
   "source": [
    "# 2.2. Project Planning + Sourcing Data with an API"
   ]
  },
  {
   "cell_type": "markdown",
   "id": "90e3e3c7-b242-45b0-ba29-1ae06535b359",
   "metadata": {},
   "source": [
    "## This script contains the following:\n",
    "#### [1. Import Libraries](#import-libraries)\n",
    "#### [2. Import Data](#import-data)\n",
    "#### [3. Getting Weather Data Using NOAA's API](#noaa-api)\n",
    "#### [4. Wrangle Weather Data](#wrangle-weather)\n",
    "#### [5. Wrangle Bike Rental Data](#wrangle-bike)\n",
    "#### [6. Merge the Data](#merge)\n",
    "#### [7. Export the Data](#export-data)"
   ]
  },
  {
   "cell_type": "markdown",
   "id": "5f5294f0-477b-4606-968b-a436799796f1",
   "metadata": {},
   "source": [
    "### 1. Import Libraries<a class=\"anchor\" id=\"import-libraries\"></a>"
   ]
  },
  {
   "cell_type": "code",
   "execution_count": 4,
   "id": "73cce35c-037a-4e08-9b34-1a060d1b4852",
   "metadata": {
    "tags": []
   },
   "outputs": [],
   "source": [
    "import pandas as pd \n",
    "import numpy as np\n",
    "import os \n",
    "import requests\n",
    "import json\n",
    "import seaborn as sns\n",
    "from datetime import datetime"
   ]
  },
  {
   "cell_type": "markdown",
   "id": "ceeb3c1d-ec72-4bb6-8644-5a407f02d471",
   "metadata": {},
   "source": [
    "### 2. Import Data<a class=\"anchor\" id=\"import-data\"></a>"
   ]
  },
  {
   "cell_type": "markdown",
   "id": "0071aa9a-77b4-4caf-b9c7-283fd21fdf2c",
   "metadata": {},
   "source": [
    "Downloaded data was unzipped and stored in the 'Raw Data' folder. There were a total of 36 csv files."
   ]
  },
  {
   "cell_type": "code",
   "execution_count": 7,
   "id": "c051a6a5-c223-4270-8f9d-86df588c8efc",
   "metadata": {
    "tags": []
   },
   "outputs": [],
   "source": [
    "# Create a list with all files in the folder using a list compehension\n",
    "folderpath = r'/Users/matthewjones/Documents/CareerFoundry/Data Visualization with Python/Achievement 2/NY-CitiBike/2. Data/Raw Data'\n",
    "filepaths  = [os.path.join(folderpath, name) for name in os.listdir(folderpath)]"
   ]
  },
  {
   "cell_type": "code",
   "execution_count": 8,
   "id": "1100feb5-3c99-4f98-b95d-d8c27f265f0b",
   "metadata": {
    "tags": []
   },
   "outputs": [],
   "source": [
    "# Read and concatenate all files simultaneously\n",
    "df = pd.concat((pd.read_csv(f, low_memory=False, encoding=\"utf-8\") for f in filepaths), ignore_index = True)"
   ]
  },
  {
   "cell_type": "markdown",
   "id": "50452fc9-c266-4cf0-9e21-fc12fca8ec5a",
   "metadata": {},
   "source": [
    "#### NOTE ON LIST COMPREHENSION:\n",
    "    The data is joined together using a list comprehension because it requires very little code to do the same thing as a for loop. List comprehension is also optimized for Python for speed. So this solution is both faster for the coder and faster for the machine."
   ]
  },
  {
   "cell_type": "code",
   "execution_count": 10,
   "id": "4af839eb-7e67-4aed-9b43-867988d09049",
   "metadata": {
    "tags": []
   },
   "outputs": [
    {
     "data": {
      "text/plain": [
       "(29838806, 14)"
      ]
     },
     "execution_count": 10,
     "metadata": {},
     "output_type": "execute_result"
    }
   ],
   "source": [
    "# Check the output\n",
    "df.shape"
   ]
  },
  {
   "cell_type": "code",
   "execution_count": 11,
   "id": "a88e7f4e-b861-4bb0-9391-98c103fce2fd",
   "metadata": {
    "tags": []
   },
   "outputs": [
    {
     "data": {
      "text/html": [
       "<div>\n",
       "<style scoped>\n",
       "    .dataframe tbody tr th:only-of-type {\n",
       "        vertical-align: middle;\n",
       "    }\n",
       "\n",
       "    .dataframe tbody tr th {\n",
       "        vertical-align: top;\n",
       "    }\n",
       "\n",
       "    .dataframe thead th {\n",
       "        text-align: right;\n",
       "    }\n",
       "</style>\n",
       "<table border=\"1\" class=\"dataframe\">\n",
       "  <thead>\n",
       "    <tr style=\"text-align: right;\">\n",
       "      <th></th>\n",
       "      <th>ride_id</th>\n",
       "      <th>rideable_type</th>\n",
       "      <th>started_at</th>\n",
       "      <th>ended_at</th>\n",
       "      <th>start_station_name</th>\n",
       "      <th>start_station_id</th>\n",
       "      <th>end_station_name</th>\n",
       "      <th>end_station_id</th>\n",
       "      <th>start_lat</th>\n",
       "      <th>start_lng</th>\n",
       "      <th>end_lat</th>\n",
       "      <th>end_lng</th>\n",
       "      <th>member_casual</th>\n",
       "      <th>Unnamed: 0</th>\n",
       "    </tr>\n",
       "  </thead>\n",
       "  <tbody>\n",
       "    <tr>\n",
       "      <th>0</th>\n",
       "      <td>9D0DC440CB40CF8E</td>\n",
       "      <td>electric_bike</td>\n",
       "      <td>2022-08-27 13:56:47.728</td>\n",
       "      <td>2022-08-27 14:02:56.651</td>\n",
       "      <td>Flatbush Ave &amp; Ocean Ave</td>\n",
       "      <td>3704.04</td>\n",
       "      <td>3 St &amp; Prospect Park West</td>\n",
       "      <td>3865.05</td>\n",
       "      <td>40.663657</td>\n",
       "      <td>-73.963014</td>\n",
       "      <td>40.668132</td>\n",
       "      <td>-73.973638</td>\n",
       "      <td>casual</td>\n",
       "      <td>NaN</td>\n",
       "    </tr>\n",
       "    <tr>\n",
       "      <th>1</th>\n",
       "      <td>2214991DFBE5C4D7</td>\n",
       "      <td>electric_bike</td>\n",
       "      <td>2022-08-20 10:37:02.756</td>\n",
       "      <td>2022-08-20 10:45:56.631</td>\n",
       "      <td>Forsyth St\\t&amp; Grand St</td>\n",
       "      <td>5382.07</td>\n",
       "      <td>E 11 St &amp; 1 Ave</td>\n",
       "      <td>5746.14</td>\n",
       "      <td>40.717798</td>\n",
       "      <td>-73.993161</td>\n",
       "      <td>40.729538</td>\n",
       "      <td>-73.984267</td>\n",
       "      <td>casual</td>\n",
       "      <td>NaN</td>\n",
       "    </tr>\n",
       "    <tr>\n",
       "      <th>2</th>\n",
       "      <td>20C5D469563B6337</td>\n",
       "      <td>classic_bike</td>\n",
       "      <td>2022-08-31 18:55:03.051</td>\n",
       "      <td>2022-08-31 19:03:37.344</td>\n",
       "      <td>Perry St &amp; Bleecker St</td>\n",
       "      <td>5922.07</td>\n",
       "      <td>Grand St &amp; Greene St</td>\n",
       "      <td>5500.02</td>\n",
       "      <td>40.735354</td>\n",
       "      <td>-74.004831</td>\n",
       "      <td>40.721700</td>\n",
       "      <td>-74.002381</td>\n",
       "      <td>member</td>\n",
       "      <td>NaN</td>\n",
       "    </tr>\n",
       "    <tr>\n",
       "      <th>3</th>\n",
       "      <td>3E8791885BC189D1</td>\n",
       "      <td>classic_bike</td>\n",
       "      <td>2022-08-02 08:05:00.250</td>\n",
       "      <td>2022-08-02 08:16:52.063</td>\n",
       "      <td>FDR Drive &amp; E 35 St</td>\n",
       "      <td>6230.04</td>\n",
       "      <td>Grand Army Plaza &amp; Central Park S</td>\n",
       "      <td>6839.10</td>\n",
       "      <td>40.744219</td>\n",
       "      <td>-73.971212</td>\n",
       "      <td>40.764397</td>\n",
       "      <td>-73.973715</td>\n",
       "      <td>member</td>\n",
       "      <td>NaN</td>\n",
       "    </tr>\n",
       "    <tr>\n",
       "      <th>4</th>\n",
       "      <td>8DBCBF98885106CB</td>\n",
       "      <td>electric_bike</td>\n",
       "      <td>2022-08-25 15:44:48.386</td>\n",
       "      <td>2022-08-25 15:55:39.691</td>\n",
       "      <td>E 40 St &amp; 5 Ave</td>\n",
       "      <td>6474.11</td>\n",
       "      <td>Ave A &amp; E 14 St</td>\n",
       "      <td>5779.11</td>\n",
       "      <td>40.752052</td>\n",
       "      <td>-73.982115</td>\n",
       "      <td>40.730311</td>\n",
       "      <td>-73.980472</td>\n",
       "      <td>member</td>\n",
       "      <td>NaN</td>\n",
       "    </tr>\n",
       "  </tbody>\n",
       "</table>\n",
       "</div>"
      ],
      "text/plain": [
       "            ride_id  rideable_type               started_at  \\\n",
       "0  9D0DC440CB40CF8E  electric_bike  2022-08-27 13:56:47.728   \n",
       "1  2214991DFBE5C4D7  electric_bike  2022-08-20 10:37:02.756   \n",
       "2  20C5D469563B6337   classic_bike  2022-08-31 18:55:03.051   \n",
       "3  3E8791885BC189D1   classic_bike  2022-08-02 08:05:00.250   \n",
       "4  8DBCBF98885106CB  electric_bike  2022-08-25 15:44:48.386   \n",
       "\n",
       "                  ended_at        start_station_name start_station_id  \\\n",
       "0  2022-08-27 14:02:56.651  Flatbush Ave & Ocean Ave          3704.04   \n",
       "1  2022-08-20 10:45:56.631    Forsyth St\\t& Grand St          5382.07   \n",
       "2  2022-08-31 19:03:37.344    Perry St & Bleecker St          5922.07   \n",
       "3  2022-08-02 08:16:52.063       FDR Drive & E 35 St          6230.04   \n",
       "4  2022-08-25 15:55:39.691           E 40 St & 5 Ave          6474.11   \n",
       "\n",
       "                    end_station_name end_station_id  start_lat  start_lng  \\\n",
       "0          3 St & Prospect Park West        3865.05  40.663657 -73.963014   \n",
       "1                    E 11 St & 1 Ave        5746.14  40.717798 -73.993161   \n",
       "2               Grand St & Greene St        5500.02  40.735354 -74.004831   \n",
       "3  Grand Army Plaza & Central Park S        6839.10  40.744219 -73.971212   \n",
       "4                    Ave A & E 14 St        5779.11  40.752052 -73.982115   \n",
       "\n",
       "     end_lat    end_lng member_casual Unnamed: 0  \n",
       "0  40.668132 -73.973638        casual        NaN  \n",
       "1  40.729538 -73.984267        casual        NaN  \n",
       "2  40.721700 -74.002381        member        NaN  \n",
       "3  40.764397 -73.973715        member        NaN  \n",
       "4  40.730311 -73.980472        member        NaN  "
      ]
     },
     "execution_count": 11,
     "metadata": {},
     "output_type": "execute_result"
    }
   ],
   "source": [
    "df.head()"
   ]
  },
  {
   "cell_type": "markdown",
   "id": "bfd10762-c4c2-420a-b9db-35220c5edd41",
   "metadata": {},
   "source": [
    "### 3. Get Weather Data Using NOAA's API<a class=\"anchor\" id=\"noaa-api\"></a>"
   ]
  },
  {
   "cell_type": "code",
   "execution_count": 13,
   "id": "8a10d16c-1fab-4aea-8d6d-b5a0f32dd8d5",
   "metadata": {
    "tags": []
   },
   "outputs": [],
   "source": [
    "# Define the NOAA token\n",
    "Token = 'EiMgIfAgdwaDOqpoeQltDBtFvzjbnSIZ' "
   ]
  },
  {
   "cell_type": "code",
   "execution_count": 14,
   "id": "c67274e6-aad4-47b9-b00d-08da8deb4f6f",
   "metadata": {
    "tags": []
   },
   "outputs": [],
   "source": [
    "# Get the API \n",
    "r = requests.get('https://www.ncdc.noaa.gov/cdo-web/api/v2/data?datasetid=GHCND&datatypeid=TAVG&limit=1000&stationid=GHCND:USW00014732&startdate=2022-01-01&enddate=2022-12-31', headers={'token':Token})"
   ]
  },
  {
   "cell_type": "code",
   "execution_count": 15,
   "id": "88e5a43b-7894-4f8d-a211-dbef77331b43",
   "metadata": {
    "tags": []
   },
   "outputs": [],
   "source": [
    "# Load the API response as a json\n",
    "d = json.loads(r.text)"
   ]
  },
  {
   "cell_type": "markdown",
   "id": "9e371b4f-8cbe-4e38-bc3e-06253c0cec78",
   "metadata": {},
   "source": [
    "### 4. Wrangle Weather Data<a class=\"anchor\" id=\"wrangle-weather\"></a>"
   ]
  },
  {
   "cell_type": "code",
   "execution_count": 17,
   "id": "af3cf247-e595-4c49-87e9-74f628632a71",
   "metadata": {
    "tags": []
   },
   "outputs": [],
   "source": [
    "# Secure all items in the response that correspond to TAVG\n",
    "avg_temps = [item for item in d['results'] if item['datatype']=='TAVG']"
   ]
  },
  {
   "cell_type": "code",
   "execution_count": 18,
   "id": "20d69cc0-0318-4e4c-9487-f2f882bbfad4",
   "metadata": {
    "tags": []
   },
   "outputs": [],
   "source": [
    "# Create a list of the date from all average temperature readings\n",
    "dates_temp = [item['date'] for item in avg_temps]"
   ]
  },
  {
   "cell_type": "code",
   "execution_count": 19,
   "id": "352f8229-a8be-483d-b93a-0946982a1327",
   "metadata": {
    "tags": []
   },
   "outputs": [],
   "source": [
    "# Create a list of the temperature from all average temperature readings\n",
    "\n",
    "temps = [item['value'] for item in avg_temps]"
   ]
  },
  {
   "cell_type": "code",
   "execution_count": 20,
   "id": "798867c7-eaac-43fa-8336-c7a6ccb669c3",
   "metadata": {
    "tags": []
   },
   "outputs": [],
   "source": [
    "# Initialize a dataframe\n",
    "df_temp = pd.DataFrame()"
   ]
  },
  {
   "cell_type": "code",
   "execution_count": 21,
   "id": "d7f74af9-b7c6-46aa-b923-6584e44c2c1c",
   "metadata": {
    "tags": []
   },
   "outputs": [],
   "source": [
    "# Create two columns in the new dataframe corresponding to the two lists\n",
    "df_temp['date'] = [datetime.strptime(d, \"%Y-%m-%dT%H:%M:%S\") for d in dates_temp] # Cast date to datetime\n",
    "df_temp['avgTemp'] = [float(v)/10.0 for v in temps] # Convert temperature from tenths of Celsius to normal Celsius"
   ]
  },
  {
   "cell_type": "code",
   "execution_count": 22,
   "id": "839115a5-c005-41f7-ad10-ad5303c97a09",
   "metadata": {
    "tags": []
   },
   "outputs": [
    {
     "data": {
      "text/plain": [
       "<Axes: xlabel='date', ylabel='avgTemp'>"
      ]
     },
     "execution_count": 22,
     "metadata": {},
     "output_type": "execute_result"
    },
    {
     "data": {
      "image/png": "[encoded data removed]",
      "text/plain": [
       "<Figure size 640x480 with 1 Axes>"
      ]
     },
     "metadata": {},
     "output_type": "display_data"
    }
   ],
   "source": [
    "# Plot temperature by date in a line plot\n",
    "sns.lineplot(data=df_temp, x=\"date\", y=\"avgTemp\")\n",
    "\n",
    "# Checking the data to ensure data consistency"
   ]
  },
  {
   "cell_type": "markdown",
   "id": "c205dfb8-3c09-4d4c-b8f6-8ad999daba6b",
   "metadata": {},
   "source": [
    "### 5. Wrangle Bike Rental Data<a class=\"anchor\" id=\"wrangle-bike\"></a>"
   ]
  },
  {
   "cell_type": "code",
   "execution_count": 24,
   "id": "2ba127ba-5778-4dd9-9989-389cad83e89a",
   "metadata": {
    "tags": []
   },
   "outputs": [
    {
     "data": {
      "text/plain": [
       "ride_id                object\n",
       "rideable_type          object\n",
       "started_at             object\n",
       "ended_at               object\n",
       "start_station_name     object\n",
       "start_station_id       object\n",
       "end_station_name       object\n",
       "end_station_id         object\n",
       "start_lat             float64\n",
       "start_lng             float64\n",
       "end_lat               float64\n",
       "end_lng               float64\n",
       "member_casual          object\n",
       "Unnamed: 0             object\n",
       "dtype: object"
      ]
     },
     "execution_count": 24,
     "metadata": {},
     "output_type": "execute_result"
    }
   ],
   "source": [
    "# Check the datatypes of df\n",
    "df.dtypes"
   ]
  },
  {
   "cell_type": "code",
   "execution_count": 25,
   "id": "6fed317d-2002-4eae-8012-bd4b8a77a9cb",
   "metadata": {
    "tags": []
   },
   "outputs": [],
   "source": [
    "# Convert 'started at' date to datetime\n",
    "df['started_at'] = pd.to_datetime(df['started_at'], dayfirst = False)"
   ]
  },
  {
   "cell_type": "code",
   "execution_count": 26,
   "id": "c550d52b-19e5-40f9-83d0-2be65ab4905a",
   "metadata": {
    "tags": []
   },
   "outputs": [],
   "source": [
    "# Create a new column in df that matches the 'date' column df_temps\n",
    "df['date'] = pd.to_datetime(df['started_at'], format='%Y-%m-%d').dt.date # We don't need time information\n",
    "df['date'] = pd.to_datetime(df['date'])"
   ]
  },
  {
   "cell_type": "markdown",
   "id": "bdf9afe5-d947-4e7f-b402-9151a167888a",
   "metadata": {},
   "source": [
    "### 6. Merge the Data<a class=\"anchor\" id=\"merge\"></a>"
   ]
  },
  {
   "cell_type": "code",
   "execution_count": 28,
   "id": "061aa37b-f2ea-45d1-9940-50dd8d362992",
   "metadata": {
    "tags": []
   },
   "outputs": [
    {
     "name": "stdout",
     "output_type": "stream",
     "text": [
      "CPU times: user 6.02 s, sys: 5.63 s, total: 11.6 s\n",
      "Wall time: 13.7 s\n"
     ]
    }
   ],
   "source": [
    "%%time\n",
    "\n",
    "# Left merge df with df_temp on the 'date' columns\n",
    "df_merged = df.merge(df_temp, how = 'left', on = 'date', indicator = True)"
   ]
  },
  {
   "cell_type": "code",
   "execution_count": 29,
   "id": "6318b543-cbe6-4590-94a0-c80e231f7fa5",
   "metadata": {
    "tags": []
   },
   "outputs": [
    {
     "data": {
      "text/plain": [
       "_merge\n",
       "both          29838166\n",
       "left_only          640\n",
       "right_only           0\n",
       "Name: count, dtype: int64"
      ]
     },
     "execution_count": 29,
     "metadata": {},
     "output_type": "execute_result"
    }
   ],
   "source": [
    "# Check to see if it was a full match\n",
    "df_merged['_merge'].value_counts(dropna = False)"
   ]
  },
  {
   "cell_type": "markdown",
   "id": "5381ec93-bedf-4b7f-9707-89e795b91087",
   "metadata": {},
   "source": [
    "#### Check the rows that only merged from the left"
   ]
  },
  {
   "cell_type": "code",
   "execution_count": 31,
   "id": "2d567da0-e975-4836-b10c-df1c5e39e3e2",
   "metadata": {
    "tags": []
   },
   "outputs": [],
   "source": [
    "# Subset merged dataframe to only contain the rows that didn't merge with df_temps\n",
    "df_merged_left = df_merged.loc[df_merged['_merge'] == 'left_only']"
   ]
  },
  {
   "cell_type": "code",
   "execution_count": 32,
   "id": "e5341025-f16a-487f-9a96-7b894c7ac963",
   "metadata": {
    "tags": []
   },
   "outputs": [
    {
     "data": {
      "text/html": [
       "<div>\n",
       "<style scoped>\n",
       "    .dataframe tbody tr th:only-of-type {\n",
       "        vertical-align: middle;\n",
       "    }\n",
       "\n",
       "    .dataframe tbody tr th {\n",
       "        vertical-align: top;\n",
       "    }\n",
       "\n",
       "    .dataframe thead th {\n",
       "        text-align: right;\n",
       "    }\n",
       "</style>\n",
       "<table border=\"1\" class=\"dataframe\">\n",
       "  <thead>\n",
       "    <tr style=\"text-align: right;\">\n",
       "      <th></th>\n",
       "      <th>ride_id</th>\n",
       "      <th>rideable_type</th>\n",
       "      <th>started_at</th>\n",
       "      <th>ended_at</th>\n",
       "      <th>start_station_name</th>\n",
       "      <th>start_station_id</th>\n",
       "      <th>end_station_name</th>\n",
       "      <th>end_station_id</th>\n",
       "      <th>start_lat</th>\n",
       "      <th>start_lng</th>\n",
       "      <th>end_lat</th>\n",
       "      <th>end_lng</th>\n",
       "      <th>member_casual</th>\n",
       "      <th>Unnamed: 0</th>\n",
       "      <th>date</th>\n",
       "      <th>avgTemp</th>\n",
       "      <th>_merge</th>\n",
       "    </tr>\n",
       "  </thead>\n",
       "  <tbody>\n",
       "    <tr>\n",
       "      <th>5822796</th>\n",
       "      <td>FA436228F4CD7647</td>\n",
       "      <td>classic_bike</td>\n",
       "      <td>2021-02-15 14:11:20.946</td>\n",
       "      <td>2022-08-10 15:01:30.839</td>\n",
       "      <td>Kent Ave &amp; S 11 St</td>\n",
       "      <td>5062.01</td>\n",
       "      <td>Union Ave &amp; Jackson St</td>\n",
       "      <td>5300.06</td>\n",
       "      <td>40.707645</td>\n",
       "      <td>-73.968415</td>\n",
       "      <td>40.716075</td>\n",
       "      <td>-73.952029</td>\n",
       "      <td>casual</td>\n",
       "      <td>NaN</td>\n",
       "      <td>2021-02-15</td>\n",
       "      <td>NaN</td>\n",
       "      <td>left_only</td>\n",
       "    </tr>\n",
       "    <tr>\n",
       "      <th>8523027</th>\n",
       "      <td>FB5A88EC9510F0D3</td>\n",
       "      <td>classic_bike</td>\n",
       "      <td>2021-12-31 15:54:01.151</td>\n",
       "      <td>2022-03-18 22:30:45.213</td>\n",
       "      <td>E 67 St &amp; Park Ave</td>\n",
       "      <td>6932.14</td>\n",
       "      <td>Pier 40 Dock Station</td>\n",
       "      <td>SYS035</td>\n",
       "      <td>40.767801</td>\n",
       "      <td>-73.965921</td>\n",
       "      <td>40.728660</td>\n",
       "      <td>-74.011980</td>\n",
       "      <td>casual</td>\n",
       "      <td>NaN</td>\n",
       "      <td>2021-12-31</td>\n",
       "      <td>NaN</td>\n",
       "      <td>left_only</td>\n",
       "    </tr>\n",
       "    <tr>\n",
       "      <th>9866906</th>\n",
       "      <td>BD86E7D0ACCC39B8</td>\n",
       "      <td>classic_bike</td>\n",
       "      <td>2021-11-22 21:28:35.151</td>\n",
       "      <td>2022-03-03 13:58:33.381</td>\n",
       "      <td>Willis Ave &amp; E 137 St</td>\n",
       "      <td>7726.02</td>\n",
       "      <td>Pier 40 Dock Station</td>\n",
       "      <td>SYS035</td>\n",
       "      <td>40.808384</td>\n",
       "      <td>-73.923604</td>\n",
       "      <td>40.728660</td>\n",
       "      <td>-74.011980</td>\n",
       "      <td>casual</td>\n",
       "      <td>NaN</td>\n",
       "      <td>2021-11-22</td>\n",
       "      <td>NaN</td>\n",
       "      <td>left_only</td>\n",
       "    </tr>\n",
       "    <tr>\n",
       "      <th>9876393</th>\n",
       "      <td>8AFBCFEE21703C2D</td>\n",
       "      <td>classic_bike</td>\n",
       "      <td>2021-04-30 16:56:21.003</td>\n",
       "      <td>2022-03-08 17:18:57.580</td>\n",
       "      <td>Bedford Ave &amp; Nassau Ave</td>\n",
       "      <td>5550.05</td>\n",
       "      <td>Lorimer St &amp; Broadway</td>\n",
       "      <td>4965.01</td>\n",
       "      <td>40.723117</td>\n",
       "      <td>-73.952123</td>\n",
       "      <td>40.704118</td>\n",
       "      <td>-73.948186</td>\n",
       "      <td>casual</td>\n",
       "      <td>NaN</td>\n",
       "      <td>2021-04-30</td>\n",
       "      <td>NaN</td>\n",
       "      <td>left_only</td>\n",
       "    </tr>\n",
       "    <tr>\n",
       "      <th>10240287</th>\n",
       "      <td>50359EEC11CE38D2</td>\n",
       "      <td>classic_bike</td>\n",
       "      <td>2021-12-12 05:18:01.991</td>\n",
       "      <td>2022-03-05 08:10:31.464</td>\n",
       "      <td>Lafayette Ave &amp; Hunts Point Ave</td>\n",
       "      <td>7883.06</td>\n",
       "      <td>E 58 St &amp; 3 Ave</td>\n",
       "      <td>6762.02</td>\n",
       "      <td>40.816567</td>\n",
       "      <td>-73.888161</td>\n",
       "      <td>40.760958</td>\n",
       "      <td>-73.967245</td>\n",
       "      <td>casual</td>\n",
       "      <td>NaN</td>\n",
       "      <td>2021-12-12</td>\n",
       "      <td>NaN</td>\n",
       "      <td>left_only</td>\n",
       "    </tr>\n",
       "  </tbody>\n",
       "</table>\n",
       "</div>"
      ],
      "text/plain": [
       "                   ride_id rideable_type              started_at  \\\n",
       "5822796   FA436228F4CD7647  classic_bike 2021-02-15 14:11:20.946   \n",
       "8523027   FB5A88EC9510F0D3  classic_bike 2021-12-31 15:54:01.151   \n",
       "9866906   BD86E7D0ACCC39B8  classic_bike 2021-11-22 21:28:35.151   \n",
       "9876393   8AFBCFEE21703C2D  classic_bike 2021-04-30 16:56:21.003   \n",
       "10240287  50359EEC11CE38D2  classic_bike 2021-12-12 05:18:01.991   \n",
       "\n",
       "                         ended_at               start_station_name  \\\n",
       "5822796   2022-08-10 15:01:30.839               Kent Ave & S 11 St   \n",
       "8523027   2022-03-18 22:30:45.213               E 67 St & Park Ave   \n",
       "9866906   2022-03-03 13:58:33.381            Willis Ave & E 137 St   \n",
       "9876393   2022-03-08 17:18:57.580         Bedford Ave & Nassau Ave   \n",
       "10240287  2022-03-05 08:10:31.464  Lafayette Ave & Hunts Point Ave   \n",
       "\n",
       "         start_station_id        end_station_name end_station_id  start_lat  \\\n",
       "5822796           5062.01  Union Ave & Jackson St        5300.06  40.707645   \n",
       "8523027           6932.14    Pier 40 Dock Station         SYS035  40.767801   \n",
       "9866906           7726.02    Pier 40 Dock Station         SYS035  40.808384   \n",
       "9876393           5550.05   Lorimer St & Broadway        4965.01  40.723117   \n",
       "10240287          7883.06         E 58 St & 3 Ave        6762.02  40.816567   \n",
       "\n",
       "          start_lng    end_lat    end_lng member_casual Unnamed: 0       date  \\\n",
       "5822796  -73.968415  40.716075 -73.952029        casual        NaN 2021-02-15   \n",
       "8523027  -73.965921  40.728660 -74.011980        casual        NaN 2021-12-31   \n",
       "9866906  -73.923604  40.728660 -74.011980        casual        NaN 2021-11-22   \n",
       "9876393  -73.952123  40.704118 -73.948186        casual        NaN 2021-04-30   \n",
       "10240287 -73.888161  40.760958 -73.967245        casual        NaN 2021-12-12   \n",
       "\n",
       "          avgTemp     _merge  \n",
       "5822796       NaN  left_only  \n",
       "8523027       NaN  left_only  \n",
       "9866906       NaN  left_only  \n",
       "9876393       NaN  left_only  \n",
       "10240287      NaN  left_only  "
      ]
     },
     "execution_count": 32,
     "metadata": {},
     "output_type": "execute_result"
    }
   ],
   "source": [
    "# Check the output\n",
    "df_merged_left.head()"
   ]
  },
  {
   "cell_type": "markdown",
   "id": "38dc7c2b-aaa0-4a9e-8d7f-f857c3b86552",
   "metadata": {},
   "source": [
    "#### NOTE ABOUT MERGE\n",
    "    640 rows in df did not have a corresponding entry in df_temp. When we look at these rows in a subset, we can see that all of these rows have bike rentals that began in 2021. Since our weather data is only for 2022, these rows will not have weather data. When cleaning this dataset, we may consider removing these rows."
   ]
  },
  {
   "cell_type": "markdown",
   "id": "5da20824-c3ad-4912-aa1d-78357fe30322",
   "metadata": {},
   "source": [
    "### 7. Export the Data<a class=\"anchor\" id=\"export-data\"></a>"
   ]
  },
  {
   "cell_type": "code",
   "execution_count": 35,
   "id": "0ceb0b3e-8ce2-4973-8825-86e84145273b",
   "metadata": {
    "tags": []
   },
   "outputs": [],
   "source": [
    "# Set the destination path for processed data\n",
    "destpath = r'/Users/matthewjones/Documents/CareerFoundry/Data Visualization with Python/Achievement 2/NY-CitiBike/2. Data/Processed Data'\n",
    "\n",
    "df_merged.to_csv(os.path.join(destpath, 'nyc_bike_weather_data.csv'))"
   ]
  },
  {
   "cell_type": "code",
   "execution_count": null,
   "id": "9a0b07af-b077-40a8-9357-3fea6d912544",
   "metadata": {},
   "outputs": [],
   "source": []
  }
 ],
 "metadata": {
  "kernelspec": {
   "display_name": "Python [conda env:venv_CitiBike]",
   "language": "python",
   "name": "conda-env-venv_CitiBike-py"
  },
  "language_info": {
   "codemirror_mode": {
    "name": "ipython",
    "version": 3
   },
   "file_extension": ".py",
   "mimetype": "text/x-python",
   "name": "python",
   "nbconvert_exporter": "python",
   "pygments_lexer": "ipython3",
   "version": "3.12.5"
  }
 },
 "nbformat": 4,
 "nbformat_minor": 5
}
