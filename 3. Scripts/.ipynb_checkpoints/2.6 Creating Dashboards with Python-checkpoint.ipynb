{
 "cells": [
  {
   "cell_type": "markdown",
   "id": "b6ff31cc-7667-4db6-abb3-55aabd60d295",
   "metadata": {},
   "source": [
    "# 2.6 Creating Dashboards with Python"
   ]
  },
  {
   "cell_type": "markdown",
   "id": "63c6fac2-93cb-4260-b22d-2b02eb65b6f6",
   "metadata": {},
   "source": [
    "## This script contains the following:\n",
    "#### [1. Import Libraries](#import-libraries)\n",
    "#### [2. Import Data](#import-data)\n",
    "#### [3. Data Wrangling](#wrangling)\n",
    "#### [4. Bar Chart](#barchart)\n",
    "#### [5. Dual Axis Line Chart](#linechart)\n",
    "#### [6. Export Dashboard Datasets](#export-data)"
   ]
  },
  {
   "cell_type": "markdown",
   "id": "534d0950-e2ce-4f0b-9848-de4c93736b42",
   "metadata": {},
   "source": [
    "### 1. Import Libraries<a id='import-libraries'></a>"
   ]
  },
  {
   "cell_type": "code",
   "execution_count": null,
   "id": "4234c02d-ae83-4a0d-aa3e-305ee073548f",
   "metadata": {
    "tags": []
   },
   "outputs": [],
   "source": [
    "import streamlit as st\n",
    "import pandas as pd\n",
    "import numpy as np\n",
    "import os\n",
    "import plotly.express as px\n",
    "from plotly.subplots import make_subplots\n",
    "import plotly.graph_objects as go\n",
    "import matplotlib.pyplot as plt\n",
    "from datetime import datetime as dt\n",
    "from streamlit_keplergl import keplergl_static"
   ]
  },
  {
   "cell_type": "markdown",
   "id": "6b18223d-53bd-439e-a9f4-32d5047bc459",
   "metadata": {},
   "source": [
    "### 2. Import Data<a id='import-data'></a>"
   ]
  },
  {
   "cell_type": "code",
   "execution_count": null,
   "id": "299206da-e449-4d77-b95b-7d37c15ba095",
   "metadata": {
    "tags": []
   },
   "outputs": [],
   "source": [
    "folderpath = r'/Users/matthewjones/Documents/CareerFoundry/Data Visualization with Python/Achievement 2/NY-CitiBike/2. Data/Processed Data'\n",
    "\n",
    "df = pd.read_pickle(os.path.join(folderpath, 'cleaned_nyc_bike_weather_data.pkl'))"
   ]
  },
  {
   "cell_type": "code",
   "execution_count": null,
   "id": "c8bd5734-da02-4250-8c6a-50a4a4d8c942",
   "metadata": {
    "tags": []
   },
   "outputs": [],
   "source": [
    "df.head()"
   ]
  },
  {
   "cell_type": "code",
   "execution_count": null,
   "id": "3c2f8e00-b5d3-4163-ad92-7a0801d79b42",
   "metadata": {
    "tags": []
   },
   "outputs": [],
   "source": [
    "df.columns"
   ]
  },
  {
   "cell_type": "code",
   "execution_count": null,
   "id": "6c098c24-4dad-472a-91f3-3d1f8750b719",
   "metadata": {
    "tags": []
   },
   "outputs": [],
   "source": [
    "df.shape"
   ]
  },
  {
   "cell_type": "markdown",
   "id": "42d388f0-38d0-4da8-809a-8d0499c75890",
   "metadata": {},
   "source": [
    "### 3. Data Wrangling<a id='wrangling'></a>"
   ]
  },
  {
   "cell_type": "code",
   "execution_count": null,
   "id": "ec6465cc-5f4c-4027-847a-ed4e9d916e26",
   "metadata": {
    "tags": []
   },
   "outputs": [],
   "source": [
    "# Drop unnecessary columns for dashboard\n",
    "df_1 = df.drop(columns = {'ride_id', 'started_at', 'ended_at', 'start_station_id',\n",
    "                          'end_station_id', 'start_lat', 'start_lng', 'end_lat',\n",
    "                          'end_lng', 'value'})"
   ]
  },
  {
   "cell_type": "code",
   "execution_count": null,
   "id": "f3f4c894-addc-4b66-afaa-d66a06f883c7",
   "metadata": {
    "tags": []
   },
   "outputs": [],
   "source": [
    "df_1.head()"
   ]
  },
  {
   "cell_type": "code",
   "execution_count": null,
   "id": "b8c7c3cb-1791-4629-a5f1-4500c77b98a6",
   "metadata": {
    "tags": []
   },
   "outputs": [],
   "source": [
    "# Select a subset of the data through random sampling\n",
    "np.random.seed(32)\n",
    "red = np.random.rand(len(df_1)) <= 0.92\n",
    "\n",
    "small = df_1[~red]"
   ]
  },
  {
   "cell_type": "code",
   "execution_count": null,
   "id": "4afa6561-7628-4508-94a4-0a7933e83b7b",
   "metadata": {
    "tags": []
   },
   "outputs": [],
   "source": [
    "small.shape"
   ]
  },
  {
   "cell_type": "markdown",
   "id": "26fa0fe8-52e2-499c-b776-14ea2eaf0de1",
   "metadata": {},
   "source": [
    "#### GROUP BY START STATION NAME"
   ]
  },
  {
   "cell_type": "code",
   "execution_count": null,
   "id": "52c7ae7c-f8da-4e6c-82d3-497183e320f1",
   "metadata": {
    "tags": []
   },
   "outputs": [],
   "source": [
    "# Groupby the start station name, and then choose the most popular 20 by total trips\n",
    "df_groupby_bar = df.groupby('start_station_name', as_index=False).agg({'value': 'sum'})\n",
    "top20 = df_groupby_bar.nlargest(20, 'value')"
   ]
  },
  {
   "cell_type": "markdown",
   "id": "d56c560f-b2a7-4d44-8c04-70e6e2d494ea",
   "metadata": {},
   "source": [
    "#### REDUCE NUMBER OF COLUMNS NEEDED TO ANALYZE"
   ]
  },
  {
   "cell_type": "code",
   "execution_count": null,
   "id": "9ce61d0c-653d-4c31-b642-bafd358150fa",
   "metadata": {
    "tags": []
   },
   "outputs": [],
   "source": [
    "# Select only the date, bike_rides_daily, and avgTemp columns to use for the dual axis line chart\n",
    "df_temp = small[['date', 'bike_rides_daily', 'avgTemp']].set_index('date')"
   ]
  },
  {
   "cell_type": "markdown",
   "id": "67ba24ae-f4dd-455f-840f-d10db098867e",
   "metadata": {},
   "source": [
    "### 4. Bar Chart<a id='barchart'></a>\n",
    "    Finding the top 20 stations by total number of trips started at each station"
   ]
  },
  {
   "cell_type": "code",
   "execution_count": null,
   "id": "49e9c733-092e-44e9-8eaf-8209cdd3dc90",
   "metadata": {
    "tags": []
   },
   "outputs": [],
   "source": [
    "# Initialize the plotly graph object with a bar chart\n",
    "bar_fig = go.Figure(go.Bar(x = top20['start_station_name'], \n",
    "                           y = top20['value'], \n",
    "                           marker={'color': top20['value'], 'colorscale' : 'blues'})) ### Use a blue color palette based on the 'value' column\n",
    "\n",
    "# Add titles to the chart\n",
    "bar_fig.update_layout(\n",
    "    title = '<b>Top 20 Most Popular Citi Bike Stations in New York 2022</b>', ### <b></b> makes the titles bold\n",
    "    xaxis_title = '<b>Start Stations</b>',\n",
    "    yaxis_title ='<b>Total Trips</b>',\n",
    "    width = 900, height = 600 ### Set the height and width of the chart area\n",
    ")\n",
    "\n",
    "bar_fig.update_xaxes(\n",
    "    automargin = True ### Prevent the x-axis labels from overlapping with the x-axis title\n",
    ")\n",
    "\n",
    "bar_fig.show()"
   ]
  },
  {
   "cell_type": "markdown",
   "id": "c4a4a2fe-ad40-4b6b-b74f-03d9df1992a5",
   "metadata": {},
   "source": [
    "Recreated the same bar chart once made in matplotlib and seaborn, now using plotly. The plotly bar chart required less code to accomplish a similar output, and this is primarily because of plotly's inate interactivity. We did not have to code for the bar labels in this chart, plotly already displays those numbers on hover. Due to the dashboard being wider than tall, the bar chart was kept vertical, instead of the horizontal charts created before.\n",
    "\n",
    "As with all the charts, we can see that W 21 St & 6 Ave is the most popular station. Of the top 20 start stations, most are in the most expensive neighborhoods of NYC (e.g. Chelsea, Upper East Side, Midtown, SoHo, Hell's Kitchen, etc.) And within these neighborhoods, most stations are near a popular tourist destination or park area (e.g. Central Park, Union Square, Madison Square Gardens/Penn Station, 9/11 Memorial, etc.) This would suggest the most common users of the bikes are commuters of a high socioeconomic status or tourists."
   ]
  },
  {
   "cell_type": "markdown",
   "id": "ca594c76-4b01-4a40-a389-81cf4c5f6cc0",
   "metadata": {},
   "source": [
    "### 5. Dual Axis Line Chart<a id='linechart'></a>\n",
    "    Overlaying the total number of trips taken each day in 2022, with the average temperature of that day in NYC"
   ]
  },
  {
   "cell_type": "code",
   "execution_count": null,
   "id": "1d8e3e37-8831-4ccd-b363-b1dd16b24095",
   "metadata": {
    "tags": []
   },
   "outputs": [],
   "source": [
    "# Initialize the plotly graph object with a bar chart\n",
    "line_fig = make_subplots(specs = [[{\"secondary_y\": True}]]) ### Set up the dual axis\n",
    "\n",
    "# PRIMARY AXIS - Total bike rides\n",
    "line_fig.add_trace(\n",
    "go.Scatter(x = df_temp.index, \n",
    "           y = df_temp['bike_rides_daily'], \n",
    "           marker = {'color': df_temp['bike_rides_daily'],'color': '#2B4B8D'}, ### Set the color of the line chart\n",
    "           fill = 'tozeroy'), ### Fill the area underneath the line chart\n",
    "secondary_y = False\n",
    ")\n",
    "\n",
    "# SECONDARY AXIS - Average temperature\n",
    "line_fig.add_trace(\n",
    "go.Scatter(x = df_temp.index, \n",
    "           y = df_temp['avgTemp'], \n",
    "           marker={'color': df_temp['avgTemp'],'color': '#EB392A'}), ### Set the color of the line chart\n",
    "secondary_y = True\n",
    ")\n",
    "\n",
    "# Add titles and plot formatting\n",
    "line_fig.update_layout(\n",
    "    title = dict(text = '<b>Daily Bike Trips and Avergage NYC Temperature in 2022</b>',\n",
    "                 font = dict(size = 18)),\n",
    "    xaxis_title = '',\n",
    "    yaxis1_title = dict(text = '<b>Bike Rides Daily</b>', \n",
    "                        font = dict(size = 14, color = '#2B4B8D')),\n",
    "    yaxis2_title = dict(text = '<b>Average Temperature (in C)</b>', \n",
    "                        font = dict(size = 14, color = '#EB392A')),\n",
    "    xaxis = dict(showgrid = False, ### Hide x-axis gridlines\n",
    "                 range = [dt(2022, 1, 1), dt(2023, 1, 1)]), ### Manually set the range for the x-axis\n",
    "    yaxis1 = dict(showgrid = False), ### Hide y-axis gridlines\n",
    "    yaxis2 = dict(showgrid = False,\n",
    "                  zeroline = False), ### Hide zero line for the y-axis (temperature)\n",
    "    showlegend = False, ### Hide legend\n",
    "    margin = dict(pad = 10), ### Add spacing between the plot and the axis labels\n",
    "    width = 900, height = 500 ### Set the height and width of the chart area\n",
    ")\n",
    "\n",
    "line_fig.update_yaxes(\n",
    "    automargin = True ### Prevent the y-axis labels from overlapping with the y-axis titles\n",
    ")"
   ]
  },
  {
   "cell_type": "markdown",
   "id": "b378611c-9268-4fb7-a705-77ad066c598f",
   "metadata": {},
   "source": [
    "Recreated the dual axis chart that was originally made using matplotlib and seaborn, now using plotly. This chart took about the same amount of code to accomplish, and there was no loss in desired customizability. As noted before, average temperature and total daily bike rides are very strongly correlated. Customers are more likely to use Citi Bikes in warmer weather, and less likely to use them in colder weather. If our primary customer base is tourists, this corresponds with summer being peak tourist season for international travelers.\n",
    "\n",
    "This finding is actually inversely correlated to subway usage in privileged areas. In warmer weather, subway usage goes down. So in summer months, more people turn to bicycles for their daily transportation. The warm weather encourages exercise. Perhaps, those commuters are working from home more often during the summer and don't need to travel as far with the subway. The increased usage in the summer could also be due to children who are out of school during those months (and who wouldn't need to take a subway train to commute)."
   ]
  },
  {
   "cell_type": "markdown",
   "id": "40c73ac6-b8a4-4fea-845a-6cd71c55294c",
   "metadata": {},
   "source": [
    "### 6. Export Dashboard Datasets<a id='export-data'></a>"
   ]
  },
  {
   "cell_type": "code",
   "execution_count": null,
   "id": "efcad447-a74c-4be3-ad03-002607048d4d",
   "metadata": {
    "tags": []
   },
   "outputs": [],
   "source": [
    "top20.to_csv(os.path.join(folderpath, 'DB_top20_stations.csv'), index=True)"
   ]
  },
  {
   "cell_type": "code",
   "execution_count": null,
   "id": "bf4a47f6-4788-49cb-8115-b1c3ce1f76ed",
   "metadata": {
    "tags": []
   },
   "outputs": [],
   "source": [
    "df_temp.to_csv(os.path.join(folderpath, 'DB_dualaxis_rides_temp.csv'), index=True)"
   ]
  },
  {
   "cell_type": "code",
   "execution_count": null,
   "id": "9112b99a-7ffe-4f5f-b00d-e41da78868d9",
   "metadata": {
    "tags": []
   },
   "outputs": [],
   "source": [
    "small.to_csv(os.path.join(folderpath, 'DB_reduced_bike_weather_data.csv'), index=True)"
   ]
  },
  {
   "cell_type": "code",
   "execution_count": null,
   "id": "9b87c461-e4d2-40be-a0d0-1e65df9a6e35",
   "metadata": {},
   "outputs": [],
   "source": []
  }
 ],
 "metadata": {
  "kernelspec": {
   "display_name": "Python [conda env:venv_CitiBike] *",
   "language": "python",
   "name": "conda-env-venv_CitiBike-py"
  },
  "language_info": {
   "codemirror_mode": {
    "name": "ipython",
    "version": 3
   },
   "file_extension": ".py",
   "mimetype": "text/x-python",
   "name": "python",
   "nbconvert_exporter": "python",
   "pygments_lexer": "ipython3",
   "version": "3.12.5"
  }
 },
 "nbformat": 4,
 "nbformat_minor": 5
}
